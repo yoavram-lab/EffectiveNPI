{
 "cells": [
  {
   "cell_type": "code",
   "execution_count": 110,
   "metadata": {},
   "outputs": [
    {
     "data": {
      "application/javascript": [
       "IPython.OutputArea.prototype._should_scroll = function(lines) {\n",
       "    return false;\n",
       "}\n"
      ],
      "text/plain": [
       "<IPython.core.display.Javascript object>"
      ]
     },
     "metadata": {},
     "output_type": "display_data"
    }
   ],
   "source": [
    "%%javascript\n",
    "IPython.OutputArea.prototype._should_scroll = function(lines) {\n",
    "    return false;\n",
    "}"
   ]
  },
  {
   "cell_type": "code",
   "execution_count": 111,
   "metadata": {},
   "outputs": [
    {
     "name": "stdout",
     "output_type": "stream",
     "text": [
      "The autoreload extension is already loaded. To reload it, use:\n",
      "  %reload_ext autoreload\n"
     ]
    }
   ],
   "source": [
    "%load_ext autoreload\n",
    "%autoreload\n",
    "exec(open(\"plot_utils.py\").read())"
   ]
  },
  {
   "cell_type": "code",
   "execution_count": 112,
   "metadata": {},
   "outputs": [],
   "source": [
    "country_name = 'Sweden'\n",
    "file_name = '../output/2020-05-14-n1-normal-1M/inference/{}.npz'.format(country_name)\n",
    "data = np.load(file_name)\n",
    "\n"
   ]
  },
  {
   "cell_type": "code",
   "execution_count": 150,
   "metadata": {},
   "outputs": [],
   "source": [
    "var_names = list(data['var_names'])\n",
    "incidences = data['incidences']\n",
    "chain = data['chain']\n",
    "nsteps, ndim, N, Td1, Td2, model_type = data['params']\n",
    "start_date = data['start_date']\n",
    "nburn = int(nsteps * 0.6)\n",
    "sample = chain[:, nburn:, :].reshape(-1, ndim)\n",
    "sample[:,var_names.index('τ')] = sample[:,var_names.index('τ')].astype(int)\n",
    "sample[:,var_names.index('Δt0')] = sample[:,var_names.index('Δt0')].astype(int)\n",
    "\n",
    "medians = [np.median(sample[:,i]) for i in range(len(var_names))]\n",
    "means = [sample[:,i].mean() for i in range(len(var_names))]\n",
    "lnprobability = data['lnprobability'][:, nburn:]\n",
    "MAP = sample[lnprobability.argmax()]"
   ]
  },
  {
   "cell_type": "code",
   "execution_count": 151,
   "metadata": {},
   "outputs": [],
   "source": [
    "ModelClass = get_model_class(model_type)\n",
    "model = ModelClass(country_name, incidences, pd.to_datetime(start_date), N, get_last_NPI_date(country_name), get_first_NPI_date(country_name), params_bounds, Td1, Td2)"
   ]
  },
  {
   "cell_type": "code",
   "execution_count": 152,
   "metadata": {},
   "outputs": [
    {
     "data": {
      "text/plain": [
       "[('Z', 3.8710446526913485, 4.021484328906158),\n",
       " ('D', 3.4923449852657877, 3.4968874777251724),\n",
       " ('μ', 0.46504555472168363, 0.41760117575851763),\n",
       " ('β', 1.0849493162875685, 1.0593404666952613),\n",
       " ('α1', 0.18748144172666412, 0.11263327470720913),\n",
       " ('λ', 0.6413049809569022, 0.6375506446035426),\n",
       " ('α2', 0.3204803992233518, 0.25008561019046444),\n",
       " ('E0', 638.4148046056314, 386.2140431632074),\n",
       " ('Iu0', 775.9920421993572, 494.3707838336137),\n",
       " ('Δt0', 2.12733685, 2.0),\n",
       " ('τ', 16.9122945, 17.0)]"
      ]
     },
     "execution_count": 152,
     "metadata": {},
     "output_type": "execute_result"
    }
   ],
   "source": [
    "list(zip(var_names, means, medians))"
   ]
  },
  {
   "cell_type": "markdown",
   "metadata": {},
   "source": [
    "## medians"
   ]
  },
  {
   "cell_type": "code",
   "execution_count": 233,
   "metadata": {},
   "outputs": [
    {
     "data": {
      "text/plain": [
       "-151.33960799159343"
      ]
     },
     "execution_count": 233,
     "metadata": {},
     "output_type": "execute_result"
    }
   ],
   "source": [
    "X = incidences\n",
    "θ = medians\n",
    "\n",
    "Z, D, μ, β, α1, λ, α2, E0, Iu0, Δt0, τ = θ\n",
    "Td1 = 9\n",
    "Td2 = 6\n",
    "\n",
    "τ = int(τ) # for explanation see https://github.com/dfm/emcee/issues/150\n",
    "Δt0 = int(Δt0)\n",
    "\n",
    "total_zeros = params_bounds['Δt0'][1]\n",
    "unrellevant_zeros = total_zeros - Δt0\n",
    "τ = τ - unrellevant_zeros\n",
    "X = X[unrellevant_zeros:]\n",
    "ndays = len(X)\n",
    "\n",
    "S, E, Ir, Iu, R, Y = model._simulate(Z, D, μ, β, α1, λ, α2, E0, Iu0, Δt0, τ, ndays)\n",
    "p1 = 1/Td1\n",
    "p2 = 1/Td2\n",
    "Xsum = X.cumsum() \n",
    "n = Y[1:] - Xsum[:-1] \n",
    "n = np.maximum(1, n)\n",
    "p = ([p1] * τ + [p2] * (ndays - τ))[1:]\n",
    "\n",
    "loglik = scipy.stats.poisson.logpmf(X[Δt0:], n[Δt0-1:] * p[Δt0-1:])\n",
    "loglik.mean()"
   ]
  },
  {
   "cell_type": "code",
   "execution_count": 241,
   "metadata": {},
   "outputs": [
    {
     "name": "stdout",
     "output_type": "stream",
     "text": [
      "τ 14 Δt0 2\n"
     ]
    }
   ],
   "source": [
    "print('τ',int(τ),'Δt0',int(Δt0))"
   ]
  },
  {
   "cell_type": "code",
   "execution_count": 242,
   "metadata": {},
   "outputs": [
    {
     "name": "stdout",
     "output_type": "stream",
     "text": [
      "day\tloglik\tX\tXsum\tY\tn\tp\n",
      "0\t0\t0\t0\t0\t12\t0.1111111111111111\n",
      "1\t0\t0\t0\t12\t27\t0.1111111111111111\n",
      "2\t-1\t1\t1\t27\t43\t0.1111111111111111\n",
      "3\t-1\t5\t6\t44\t57\t0.1111111111111111\n",
      "4\t-1\t5\t11\t63\t73\t0.1111111111111111\n",
      "5\t-6\t1\t12\t84\t96\t0.1111111111111111\n",
      "6\t-8\t1\t13\t108\t120\t0.1111111111111111\n",
      "7\t-10\t1\t14\t133\t147\t0.1111111111111111\n",
      "8\t-4\t9\t23\t161\t169\t0.1111111111111111\n",
      "9\t-4\t11\t34\t192\t191\t0.1111111111111111\n",
      "10\t-3\t26\t60\t225\t202\t0.1111111111111111\n",
      "11\t-42\t76\t136\t262\t166\t0.1111111111111111\n",
      "12\t-3\t24\t160\t302\t186\t0.1111111111111111\n",
      "13\t-11\t42\t202\t346\t144\t0.16666666666666666\n",
      "14\t-10\t45\t247\t346\t200\t0.16666666666666666\n",
      "15\t-24\t78\t325\t447\t222\t0.16666666666666666\n",
      "16\t-81\t136\t461\t547\t189\t0.16666666666666666\n",
      "17\t-131\t158\t619\t650\t136\t0.16666666666666666\n",
      "18\t-168\t155\t774\t755\t89\t0.16666666666666666\n",
      "19\t-211\t149\t923\t863\t53\t0.16666666666666666\n",
      "20\t-173\t108\t1031\t976\t62\t0.16666666666666666\n",
      "21\t-115\t89\t1120\t1093\t95\t0.16666666666666666\n",
      "22\t-21\t46\t1166\t1215\t176\t0.16666666666666666\n",
      "23\t-101\t134\t1300\t1342\t174\t0.16666666666666666\n",
      "24\t-85\t122\t1422\t1474\t190\t0.16666666666666666\n",
      "25\t-203\t200\t1622\t1612\t133\t0.16666666666666666\n",
      "26\t-112\t123\t1745\t1755\t159\t0.16666666666666666\n",
      "27\t-156\t160\t1905\t1904\t155\t0.16666666666666666\n",
      "28\t-78\t110\t2015\t2060\t206\t0.16666666666666666\n",
      "29\t-295\t256\t2271\t2221\t119\t0.16666666666666666\n",
      "30\t-376\t238\t2509\t2390\t56\t0.16666666666666666\n",
      "31\t-735\t296\t2805\t2565\t1\t0.16666666666666666\n"
     ]
    }
   ],
   "source": [
    "def r(arr):\n",
    "    return [str(int(a)) if not np.isinf(a) else '-inf' for a in arr[:-1]]+[str(arr[-1])]\n",
    "def r_arrays(arr):\n",
    "    return [r(a) for a in arr]\n",
    "\n",
    "loglik_to_print = np.array([0]*Δt0+list(loglik))\n",
    "print('\\t'.join(['day', 'loglik', 'X', 'Xsum', 'Y', 'n','p']))\n",
    "arr = r_arrays(list(zip(range(len(X)),loglik_to_print,X, Xsum, Y, n, p)))\n",
    "for a in arr:\n",
    "    print('\\t'.join(a))"
   ]
  },
  {
   "cell_type": "markdown",
   "metadata": {},
   "source": [
    "## means"
   ]
  },
  {
   "cell_type": "code",
   "execution_count": 118,
   "metadata": {},
   "outputs": [
    {
     "data": {
      "text/plain": [
       "-221.17259181326324"
      ]
     },
     "execution_count": 118,
     "metadata": {},
     "output_type": "execute_result"
    }
   ],
   "source": [
    "X = incidences\n",
    "θ = means\n",
    "\n",
    "Z, D, μ, β, α1, λ, α2, E0, Iu0, Δt0, τ = θ\n",
    "Td1 = 9\n",
    "Td2 = 6\n",
    "\n",
    "τ = int(τ) # for explanation see https://github.com/dfm/emcee/issues/150\n",
    "Δt0 = int(Δt0)\n",
    "\n",
    "total_zeros = params_bounds['Δt0'][1]\n",
    "unrellevant_zeros = total_zeros - Δt0\n",
    "τ = τ - unrellevant_zeros\n",
    "X = X[unrellevant_zeros:]\n",
    "ndays = len(X)\n",
    "\n",
    "S, E, Ir, Iu, R, Y = model._simulate(Z, D, μ, β, α1, λ, α2, E0, Iu0, Δt0, τ, ndays)\n",
    "p1 = 1/Td1\n",
    "p2 = 1/Td2\n",
    "Xsum = X.cumsum() \n",
    "n = Y[1:] - Xsum[:-1] \n",
    "n = np.maximum(1, n)\n",
    "p = ([p1] * τ + [p2] * (ndays - τ))[1:]\n",
    "\n",
    "loglik = scipy.stats.poisson.logpmf(X[Δt0:], n[Δt0-1:] * p[Δt0-1:])\n",
    "loglik.mean()"
   ]
  },
  {
   "cell_type": "code",
   "execution_count": 119,
   "metadata": {},
   "outputs": [
    {
     "name": "stdout",
     "output_type": "stream",
     "text": [
      "day\tloglik\tX\tXsum\tY\tn\tp\n",
      "0\t0\t0\t0\t0\t35\t0.1111111111111111\n",
      "1\t0\t0\t0\t35\t80\t0.1111111111111111\n",
      "2\t-6\t1\t1\t80\t132\t0.1111111111111111\n",
      "3\t-6\t5\t6\t133\t188\t0.1111111111111111\n",
      "4\t-10\t5\t11\t194\t253\t0.1111111111111111\n",
      "5\t-24\t1\t12\t264\t331\t0.1111111111111111\n",
      "6\t-33\t1\t13\t343\t420\t0.1111111111111111\n",
      "7\t-42\t1\t14\t433\t522\t0.1111111111111111\n",
      "8\t-34\t9\t23\t536\t629\t0.1111111111111111\n",
      "9\t-40\t11\t34\t652\t750\t0.1111111111111111\n",
      "10\t-29\t26\t60\t784\t873\t0.1111111111111111\n",
      "11\t-5\t76\t136\t933\t966\t0.1111111111111111\n",
      "12\t-49\t24\t160\t1102\t942\t0.16666666666666666\n",
      "13\t-62\t42\t202\t1102\t1209\t0.16666666666666666\n",
      "14\t-91\t45\t247\t1411\t1479\t0.16666666666666666\n",
      "15\t-81\t78\t325\t1726\t1730\t0.16666666666666666\n",
      "16\t-53\t136\t461\t2055\t1942\t0.16666666666666666\n",
      "17\t-55\t158\t619\t2403\t2153\t0.16666666666666666\n",
      "18\t-77\t155\t774\t2772\t2391\t0.16666666666666666\n",
      "19\t-106\t149\t923\t3165\t2662\t0.16666666666666666\n",
      "20\t-186\t108\t1031\t3585\t3001\t0.16666666666666666\n",
      "21\t-260\t89\t1120\t4032\t3390\t0.16666666666666666\n",
      "22\t-406\t46\t1166\t4510\t3853\t0.16666666666666666\n",
      "23\t-301\t134\t1300\t5019\t4264\t0.16666666666666666\n",
      "24\t-377\t122\t1422\t5564\t4723\t0.16666666666666666\n",
      "25\t-316\t200\t1622\t6145\t5144\t0.16666666666666666\n",
      "26\t-498\t123\t1745\t6766\t5684\t0.16666666666666666\n",
      "27\t-506\t160\t1905\t7429\t6232\t0.16666666666666666\n",
      "28\t-685\t110\t2015\t8137\t6878\t0.16666666666666666\n",
      "29\t-510\t256\t2271\t8893\t7429\t0.16666666666666666\n",
      "30\t-611\t238\t2509\t9700\t8052\t0.16666666666666666\n",
      "31\t-602\t296\t2805\t10561\t8676\t0.16666666666666666\n"
     ]
    }
   ],
   "source": [
    "def r(arr):\n",
    "    return [str(int(a)) if not np.isinf(a) else '-inf' for a in arr[:-1]]+[str(arr[-1])]\n",
    "def r_arrays(arr):\n",
    "    return [r(a) for a in arr]\n",
    "\n",
    "loglik_to_print = np.array([0]*Δt0+list(loglik))\n",
    "print('\\t'.join(['day', 'loglik', 'X', 'Xsum', 'Y', 'n','p']))\n",
    "arr = r_arrays(list(zip(range(len(X)),loglik_to_print,X, Xsum, Y, n, p)))\n",
    "for a in arr:\n",
    "    print('\\t'.join(a))"
   ]
  },
  {
   "cell_type": "code",
   "execution_count": null,
   "metadata": {},
   "outputs": [],
   "source": []
  }
 ],
 "metadata": {
  "kernelspec": {
   "display_name": "Environment (conda_py371)",
   "language": "python",
   "name": "conda_py371"
  },
  "language_info": {
   "codemirror_mode": {
    "name": "ipython",
    "version": 3
   },
   "file_extension": ".py",
   "mimetype": "text/x-python",
   "name": "python",
   "nbconvert_exporter": "python",
   "pygments_lexer": "ipython3",
   "version": "3.7.2"
  }
 },
 "nbformat": 4,
 "nbformat_minor": 2
}
