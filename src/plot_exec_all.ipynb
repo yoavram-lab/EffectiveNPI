{
 "cells": [
  {
   "cell_type": "code",
   "execution_count": 1,
   "metadata": {},
   "outputs": [
    {
     "name": "stderr",
     "output_type": "stream",
     "text": [
      "/Users/adsurbum/anaconda2/envs/py371/lib/python3.7/site-packages/statsmodels/tools/_testing.py:19: FutureWarning: pandas.util.testing is deprecated. Use the functions in the public API at pandas.testing instead.\n",
      "  import pandas.util.testing as tm\n"
     ]
    }
   ],
   "source": [
    "exec(open(\"plot_utils.py\").read())"
   ]
  },
  {
   "cell_type": "code",
   "execution_count": 2,
   "metadata": {},
   "outputs": [
    {
     "data": {
      "text/plain": [
       "dict_keys(['Austria', 'Belgium', 'Denmark', 'France', 'Germany', 'Italy', 'Norway', 'Spain', 'Sweden', 'Switzerland', 'United_Kingdom', 'Wuhan'])"
      ]
     },
     "execution_count": 2,
     "metadata": {},
     "output_type": "execute_result"
    }
   ],
   "source": [
    "official_τ_dates.keys()"
   ]
  },
  {
   "cell_type": "code",
   "execution_count": 3,
   "metadata": {},
   "outputs": [],
   "source": [
    "import matplotlib.backends.backend_pdf\n",
    "def save_plots_to_pdf():\n",
    "    def close_and_savefig():\n",
    "        fig = plt.gcf()\n",
    "        pdf.savefig(fig,bbox_inches=\"tight\")\n",
    "        plt.close(fig)\n",
    "    plot_all();\n",
    "    close_and_savefig()\n",
    "    plot_corner(sample,var_names,ndim)\n",
    "    close_and_savefig()\n"
   ]
  },
  {
   "cell_type": "code",
   "execution_count": 4,
   "metadata": {},
   "outputs": [
    {
     "name": "stdout",
     "output_type": "stream",
     "text": [
      "Belgium\n",
      "Denmark\n",
      "France\n",
      "Germany\n",
      "Italy\n",
      "Norway\n",
      "Spain\n",
      "Sweden\n",
      "Switzerland\n",
      "CPU times: user 11min 17s, sys: 41 s, total: 11min 58s\n",
      "Wall time: 12min 3s\n"
     ]
    }
   ],
   "source": [
    "%%time\n",
    "dir_name = '../output/24Apr-start-date-fix-seed10/result/'\n",
    "reports_dir_name = '../output/24Apr-start-date-fix-seed10/report/'\n",
    "\n",
    "countries = ['Austria', 'Belgium', 'Denmark', 'France', 'Germany', 'Italy', 'Norway', 'Spain',\n",
    "             'Sweden', 'Switzerland']\n",
    "countries = ['Belgium', 'Denmark', 'France', 'Germany', 'Italy', 'Norway', 'Spain',\n",
    "             'Sweden', 'Switzerland']\n",
    "def close_and_savefig():\n",
    "    fig = plt.gcf()\n",
    "    pdf.savefig(fig,bbox_inches=\"tight\")\n",
    "    plt.close(fig)\n",
    "    \n",
    "pdf = matplotlib.backends.backend_pdf.PdfPages(reports_dir_name+'all-countries.pdf')\n",
    "for country_name in countries:\n",
    "    print(country_name)\n",
    "    load_data(dir_name+country_name+'.npz')\n",
    "    plot_all();\n",
    "    close_and_savefig()\n",
    "    plot_corner()\n",
    "    close_and_savefig()\n",
    "pdf.close()"
   ]
  },
  {
   "cell_type": "code",
   "execution_count": null,
   "metadata": {},
   "outputs": [],
   "source": []
  },
  {
   "cell_type": "code",
   "execution_count": null,
   "metadata": {},
   "outputs": [],
   "source": []
  },
  {
   "cell_type": "code",
   "execution_count": null,
   "metadata": {},
   "outputs": [],
   "source": []
  }
 ],
 "metadata": {
  "kernelspec": {
   "display_name": "Environment (conda_py371)",
   "language": "python",
   "name": "conda_py371"
  },
  "language_info": {
   "codemirror_mode": {
    "name": "ipython",
    "version": 3
   },
   "file_extension": ".py",
   "mimetype": "text/x-python",
   "name": "python",
   "nbconvert_exporter": "python",
   "pygments_lexer": "ipython3",
   "version": "3.7.2"
  },
  "papermill": {
   "duration": 283.00423,
   "end_time": "2020-04-13T20:14:43.182021",
   "environment_variables": {},
   "exception": null,
   "input_path": "plot_generic.ipynb",
   "output_path": "./outputs/wuhan.ipynb",
   "parameters": {
    "file_name": "wuhan.npz"
   },
   "start_time": "2020-04-13T20:10:00.177791",
   "version": "1.1.0"
  }
 },
 "nbformat": 4,
 "nbformat_minor": 4
}
