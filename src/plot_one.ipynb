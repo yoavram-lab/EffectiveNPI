{
 "cells": [
  {
   "cell_type": "code",
   "execution_count": 1,
   "metadata": {},
   "outputs": [
    {
     "name": "stderr",
     "output_type": "stream",
     "text": [
      "/Users/adsurbum/anaconda2/envs/py371/lib/python3.7/site-packages/statsmodels/tools/_testing.py:19: FutureWarning: pandas.util.testing is deprecated. Use the functions in the public API at pandas.testing instead.\n",
      "  import pandas.util.testing as tm\n"
     ]
    }
   ],
   "source": [
    "# %run plot_utils.ipynb\n",
    "exec(open(\"plot_utils.py\").read())"
   ]
  },
  {
   "cell_type": "code",
   "execution_count": 33,
   "metadata": {},
   "outputs": [],
   "source": [
    "dir_name = 'output/test/result-data/'\n",
    "# dir_name = '../output/22Apr-start-date-change/results-data/'\n",
    "country_name = 'United_Kingdom'\n",
    "load_data(dir_name+country_name+'.npz')\n",
    "# plot_all();\n"
   ]
  },
  {
   "cell_type": "code",
   "execution_count": 34,
   "metadata": {},
   "outputs": [],
   "source": [
    "s2 = sample.copy()"
   ]
  },
  {
   "cell_type": "code",
   "execution_count": 35,
   "metadata": {},
   "outputs": [
    {
     "data": {
      "text/plain": [
       "array([[3.26004308e+00, 3.82871384e+00, 2.98745352e-01, ...,\n",
       "        2.07202665e+03, 1.43853740e+03, 1.28092496e+01],\n",
       "       [3.26004308e+00, 3.82871384e+00, 2.98745352e-01, ...,\n",
       "        2.07202665e+03, 1.43853740e+03, 1.28092496e+01],\n",
       "       [3.26004308e+00, 3.82871384e+00, 2.98745352e-01, ...,\n",
       "        2.07202665e+03, 1.43853740e+03, 1.28092496e+01],\n",
       "       ...,\n",
       "       [3.55749640e+00, 2.24975225e+00, 6.15523786e-01, ...,\n",
       "        2.20037177e+03, 6.14515596e+02, 1.14875851e+01],\n",
       "       [3.55749640e+00, 2.24975225e+00, 6.15523786e-01, ...,\n",
       "        2.20037177e+03, 6.14515596e+02, 1.14875851e+01],\n",
       "       [3.55749640e+00, 2.24975225e+00, 6.15523786e-01, ...,\n",
       "        2.20037177e+03, 6.14515596e+02, 1.14875851e+01]])"
      ]
     },
     "execution_count": 35,
     "metadata": {},
     "output_type": "execute_result"
    }
   ],
   "source": [
    "s1\n"
   ]
  },
  {
   "cell_type": "code",
   "execution_count": 36,
   "metadata": {},
   "outputs": [
    {
     "data": {
      "text/plain": [
       "array([[3.48666745e+00, 3.98634656e+00, 5.10269002e-01, ...,\n",
       "        2.26461831e+03, 1.17615178e+03, 5.63174341e+00],\n",
       "       [3.48666745e+00, 3.98634656e+00, 5.10269002e-01, ...,\n",
       "        2.26461831e+03, 1.17615178e+03, 5.63174341e+00],\n",
       "       [3.48666745e+00, 3.98634656e+00, 5.10269002e-01, ...,\n",
       "        2.26461831e+03, 1.17615178e+03, 5.63174341e+00],\n",
       "       ...,\n",
       "       [3.09563081e+00, 4.00307359e+00, 5.83976847e-01, ...,\n",
       "        8.61144037e+02, 1.24316890e+03, 1.85163221e+01],\n",
       "       [3.09563081e+00, 4.00307359e+00, 5.83976847e-01, ...,\n",
       "        8.61144037e+02, 1.24316890e+03, 1.85163221e+01],\n",
       "       [3.09563081e+00, 4.00307359e+00, 5.83976847e-01, ...,\n",
       "        8.61144037e+02, 1.24316890e+03, 1.85163221e+01]])"
      ]
     },
     "execution_count": 36,
     "metadata": {},
     "output_type": "execute_result"
    }
   ],
   "source": [
    "s2"
   ]
  },
  {
   "cell_type": "code",
   "execution_count": null,
   "metadata": {},
   "outputs": [],
   "source": []
  },
  {
   "cell_type": "code",
   "execution_count": null,
   "metadata": {},
   "outputs": [],
   "source": []
  }
 ],
 "metadata": {
  "kernelspec": {
   "display_name": "Environment (conda_py371)",
   "language": "python",
   "name": "conda_py371"
  },
  "language_info": {
   "codemirror_mode": {
    "name": "ipython",
    "version": 3
   },
   "file_extension": ".py",
   "mimetype": "text/x-python",
   "name": "python",
   "nbconvert_exporter": "python",
   "pygments_lexer": "ipython3",
   "version": "3.7.2"
  }
 },
 "nbformat": 4,
 "nbformat_minor": 2
}
