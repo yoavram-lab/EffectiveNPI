{
 "cells": [
  {
   "cell_type": "code",
   "execution_count": 135,
   "metadata": {},
   "outputs": [
    {
     "name": "stdout",
     "output_type": "stream",
     "text": [
      "The autoreload extension is already loaded. To reload it, use:\n",
      "  %reload_ext autoreload\n"
     ]
    }
   ],
   "source": [
    "%load_ext autoreload\n",
    "%autoreload\n",
    "exec(open(\"plot_utils.py\").read())"
   ]
  },
  {
   "cell_type": "code",
   "execution_count": 136,
   "metadata": {},
   "outputs": [],
   "source": [
    "def fix_logliks(dir_name,country_name):\n",
    "    file_name = dir_name+country_name+'.npz'\n",
    "    data = load_data(file_name, country_name,0)\n",
    "    tau_prior = get_τ_prior(start_date, ndays, country_name, τ_model)\n",
    "    priors = [log_prior(s,tau_prior,τ_model) for s in sample]\n",
    "    logliks = lnprobability.reshape(-1)-priors\n",
    "    npz = np.load(file_name)\n",
    "    dic = {k:npz[k] for k in npz.files}\n",
    "    dic['logliks'] = logliks\n",
    "    np.savez_compressed(file_name,**dic)"
   ]
  },
  {
   "cell_type": "code",
   "execution_count": null,
   "metadata": {},
   "outputs": [
    {
     "name": "stdout",
     "output_type": "stream",
     "text": [
      "Sweden\n",
      "Belgium\n",
      "United_Kingdom\n"
     ]
    }
   ],
   "source": [
    "%%time\n",
    "import os,fnmatch\n",
    "dir_name = '../{}/{}/inference/'.format('output','2020-04-30-prior-walkers-model2-normal')\n",
    "countries = [a[:-4] for a in fnmatch.filter(os.listdir(dir_name), '*.npz')]\n",
    "for country_name in countries:\n",
    "    print(country_name)\n",
    "    fix_logliks(dir_name, country_name)"
   ]
  },
  {
   "cell_type": "code",
   "execution_count": null,
   "metadata": {},
   "outputs": [],
   "source": []
  }
 ],
 "metadata": {
  "kernelspec": {
   "display_name": "Environment (conda_py371)",
   "language": "python",
   "name": "conda_py371"
  },
  "language_info": {
   "codemirror_mode": {
    "name": "ipython",
    "version": 3
   },
   "file_extension": ".py",
   "mimetype": "text/x-python",
   "name": "python",
   "nbconvert_exporter": "python",
   "pygments_lexer": "ipython3",
   "version": "3.7.2"
  }
 },
 "nbformat": 4,
 "nbformat_minor": 2
}
