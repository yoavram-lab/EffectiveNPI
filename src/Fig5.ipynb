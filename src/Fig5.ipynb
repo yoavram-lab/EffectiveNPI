{
 "cells": [
  {
   "cell_type": "code",
   "execution_count": 51,
   "metadata": {},
   "outputs": [],
   "source": [
    "%matplotlib inline\n",
    "import matplotlib as mpl\n",
    "import matplotlib.pyplot as plt\n",
    "import numpy as np\n",
    "import scipy.stats\n",
    "import scipy.signal\n",
    "import pandas as pd\n",
    "import seaborn as sns\n",
    "sns.set_context('paper', font_scale=1.3)\n",
    "red, blue, green = sns.color_palette('Set1', 3)\n",
    "\n",
    "import os\n",
    "from datetime import datetime, timedelta\n",
    "\n",
    "from rakott.mpl import fig_panel_labels, fig_xlabel, fig_ylabel, savefig_bbox"
   ]
  },
  {
   "cell_type": "code",
   "execution_count": 11,
   "metadata": {},
   "outputs": [],
   "source": [
    "def int_to_dt(t):\n",
    "    return pd.to_datetime(start_date) + timedelta(days=t)\n",
    "def date_to_int(x):\n",
    "    dt = datetime.strptime(x + ' 2020', '%b %d %Y')\n",
    "    td = dt - start_date\n",
    "    return td.days\n",
    "def date_to_date(x):\n",
    "    dt = datetime.strptime(x + ' 2020', '%b %d %Y')\n",
    "    return dt\n",
    "def τ_to_string(τ):\n",
    "    return (pd.to_datetime(start_date) + timedelta(days=τ)).strftime('%b %d')\n",
    "\n",
    "from inference import find_start_day, get_first_NPI_date, get_last_NPI_date, params_bounds\n",
    "from model.normal_prior_model import NormalPriorModel\n",
    "from model.fixed_tau_model import FixedTauModel\n",
    "from model.normal_prior_model import NormalPriorModel\n",
    "\n",
    "from Fig_ppc import load_chain"
   ]
  },
  {
   "cell_type": "code",
   "execution_count": 12,
   "metadata": {},
   "outputs": [
    {
     "name": "stdout",
     "output_type": "stream",
     "text": [
      "Index(['country', 'WAIC', 'DIC using median', 'DIC using mean',\n",
      "       'DIC using MAP', 'loglik(MAP)', 'loglik(mean)', 'loglik(median)', 'N',\n",
      "       'p_steps', 'p_model_type', 'p_Td1', 'p_Td2', 'τ official', 'τ mean d',\n",
      "       'τ median d', 'τ MAP d', 'τ hpd 75% from', 'τ hpd 75% to',\n",
      "       'τ hpd 95% from', 'τ hpd 95% to', 'official τ from 1 Jan',\n",
      "       'τ mean from 1 Jan', 'τ median from 1 Jan', 'τ MAP from 1 Jan',\n",
      "       'τ CrI median (75%)', 'τ CrI median (95%)', 'τ CrI mean (75%)',\n",
      "       'τ CrI mean (95%)', 'Z mean', 'Z median', 'Z MAP', 'D mean', 'D median',\n",
      "       'D MAP', 'μ mean', 'μ median', 'μ MAP', 'β mean', 'β median', 'β MAP',\n",
      "       'α1 mean', 'α1 median', 'α1 MAP', 'λ mean', 'λ median', 'λ MAP',\n",
      "       'α2 mean', 'α2 median', 'α2 MAP', 'E0 mean', 'E0 median', 'E0 MAP',\n",
      "       'Iu0 mean', 'Iu0 median', 'Iu0 MAP', 'Δt0 mean', 'Δt0 median',\n",
      "       'Δt0 MAP', 'τ mean', 'τ median', 'τ MAP', 'τ hpd 75% from n',\n",
      "       'τ hpd 75% to n', 'τ hpd 95% from n', 'τ hpd 95% to n', 'τ hpd CrI 75%',\n",
      "       'τ hpd CrI 95%'],\n",
      "      dtype='object')\n"
     ]
    },
    {
     "data": {
      "text/html": [
       "<div>\n",
       "<style scoped>\n",
       "    .dataframe tbody tr th:only-of-type {\n",
       "        vertical-align: middle;\n",
       "    }\n",
       "\n",
       "    .dataframe tbody tr th {\n",
       "        vertical-align: top;\n",
       "    }\n",
       "\n",
       "    .dataframe thead th {\n",
       "        text-align: right;\n",
       "    }\n",
       "</style>\n",
       "<table border=\"1\" class=\"dataframe\">\n",
       "  <thead>\n",
       "    <tr style=\"text-align: right;\">\n",
       "      <th></th>\n",
       "      <th>country</th>\n",
       "      <th>WAIC</th>\n",
       "      <th>DIC using median</th>\n",
       "      <th>DIC using mean</th>\n",
       "      <th>DIC using MAP</th>\n",
       "      <th>loglik(MAP)</th>\n",
       "      <th>loglik(mean)</th>\n",
       "      <th>loglik(median)</th>\n",
       "      <th>N</th>\n",
       "      <th>p_steps</th>\n",
       "      <th>...</th>\n",
       "      <th>Δt0 MAP</th>\n",
       "      <th>τ mean</th>\n",
       "      <th>τ median</th>\n",
       "      <th>τ MAP</th>\n",
       "      <th>τ hpd 75% from n</th>\n",
       "      <th>τ hpd 75% to n</th>\n",
       "      <th>τ hpd 95% from n</th>\n",
       "      <th>τ hpd 95% to n</th>\n",
       "      <th>τ hpd CrI 75%</th>\n",
       "      <th>τ hpd CrI 95%</th>\n",
       "    </tr>\n",
       "  </thead>\n",
       "  <tbody>\n",
       "    <tr>\n",
       "      <th>1</th>\n",
       "      <td>Italy</td>\n",
       "      <td>79.9437</td>\n",
       "      <td>-32250.9561</td>\n",
       "      <td>-2490.0998</td>\n",
       "      <td>84.5907</td>\n",
       "      <td>-32.576</td>\n",
       "      <td>-1319.9212</td>\n",
       "      <td>-16200.3494</td>\n",
       "      <td>60431283</td>\n",
       "      <td>7000000</td>\n",
       "      <td>...</td>\n",
       "      <td>1.0366</td>\n",
       "      <td>30.3904</td>\n",
       "      <td>29.9537</td>\n",
       "      <td>32.7866</td>\n",
       "      <td>29.0</td>\n",
       "      <td>32.4515</td>\n",
       "      <td>27.9473</td>\n",
       "      <td>33.0</td>\n",
       "      <td>3.4515</td>\n",
       "      <td>5.0527</td>\n",
       "    </tr>\n",
       "  </tbody>\n",
       "</table>\n",
       "<p>1 rows × 68 columns</p>\n",
       "</div>"
      ],
      "text/plain": [
       "  country     WAIC  DIC using median  DIC using mean  DIC using MAP  \\\n",
       "1   Italy  79.9437       -32250.9561      -2490.0998        84.5907   \n",
       "\n",
       "   loglik(MAP)  loglik(mean)  loglik(median)         N  p_steps  ...  Δt0 MAP  \\\n",
       "1      -32.576    -1319.9212     -16200.3494  60431283  7000000  ...   1.0366   \n",
       "\n",
       "    τ mean  τ median    τ MAP τ hpd 75% from n τ hpd 75% to n  \\\n",
       "1  30.3904   29.9537  32.7866             29.0        32.4515   \n",
       "\n",
       "  τ hpd 95% from n τ hpd 95% to n τ hpd CrI 75% τ hpd CrI 95%  \n",
       "1          27.9473           33.0        3.4515        5.0527  \n",
       "\n",
       "[1 rows x 68 columns]"
      ]
     },
     "execution_count": 12,
     "metadata": {},
     "output_type": "execute_result"
    }
   ],
   "source": [
    "job_id = '7M' \n",
    "country = 'Italy'\n",
    "\n",
    "output_folder = r'/home/ubuntu/output-tmp'\n",
    "table_path = os.path.join(output_folder, job_id, 'tables', 'all-countries-{}.csv'.format(job_id))\n",
    "df = pd.read_csv(table_path)\n",
    "df = df.rename(columns={'official_τ': 'τ official'})\n",
    "df['country'] = df['country'].str.replace(\"_\", \" \")\n",
    "df = df[df['country'] == country]\n",
    "print(df.columns)\n",
    "df"
   ]
  },
  {
   "cell_type": "code",
   "execution_count": 13,
   "metadata": {},
   "outputs": [],
   "source": [
    "Z, D, μ, β, α, _, _, E0, Iu0, Δt0, τ = df[['Z median', 'D median', 'μ median', 'β median', 'α1 median', 'λ median', 'α2 median', 'E0 median', 'Iu0 median', 'Δt0 median', 'τ median']].values[0].tolist()\n",
    "τ_star_days = df['official τ from 1 Jan'].values[0]"
   ]
  },
  {
   "cell_type": "code",
   "execution_count": null,
   "metadata": {},
   "outputs": [],
   "source": []
  },
  {
   "cell_type": "code",
   "execution_count": 14,
   "metadata": {},
   "outputs": [],
   "source": [
    "url = 'https://github.com/ImperialCollegeLondon/covid19model/raw/v1.0/data/COVID-19-up-to-date.csv'\n",
    "fname = '../data/COVID-19-up-to-date.csv'\n",
    "if not os.path.exists(fname):\n",
    "    urllib.request.urlretrieve(url, fname)\n",
    "data = pd.read_csv(fname, encoding='iso-8859-1')\n",
    "data['date'] = pd.to_datetime(data['dateRep'], format='%d/%m/%Y')\n",
    "data = data[data['countriesAndTerritories'] == country]\n",
    "N = data.iloc[0]['popData2018']\n",
    "cases_and_dates = data.iloc[::-1][['cases','date']]\n",
    "start_date = find_start_day(cases_and_dates)\n",
    "X = np.array(cases_and_dates[cases_and_dates['date'] >= start_date]['cases'])\n",
    "ndays = len(X)"
   ]
  },
  {
   "cell_type": "code",
   "execution_count": 15,
   "metadata": {},
   "outputs": [],
   "source": [
    "start_date = find_start_day(cases_and_dates)\n",
    "chain_fname = os.path.join(output_folder, job_id, 'inference', '{}.npz'.format(country))\n",
    "chain = load_chain(fname=chain_fname)[0]"
   ]
  },
  {
   "cell_type": "code",
   "execution_count": 26,
   "metadata": {},
   "outputs": [],
   "source": [
    "found = False\n",
    "i = 0 \n",
    "while not found:\n",
    "    params = chain[i]\n",
    "    if round(params[-1])==round(τ):\n",
    "        break\n",
    "    i = i+1"
   ]
  },
  {
   "cell_type": "code",
   "execution_count": 53,
   "metadata": {},
   "outputs": [],
   "source": [
    "model = FixedTauModel(country, X, start_date, N, \n",
    "                        get_last_NPI_date(country), get_first_NPI_date(country),\n",
    "                        params_bounds, 9, 6)\n",
    "\n",
    "y_star = np.array([\n",
    "    model.generate_daily_cases(θi)\n",
    "    for θi in 1000*[params[:-1]]\n",
    "])\n",
    "\n",
    "model.τ = τ\n",
    "y_hat = np.array([\n",
    "    model.generate_daily_cases(θi)\n",
    "    for θi in 1000*[params[:-1]]\n",
    "])"
   ]
  },
  {
   "cell_type": "code",
   "execution_count": 54,
   "metadata": {},
   "outputs": [],
   "source": [
    "X_mean = scipy.signal.savgol_filter(X, 3, 1)"
   ]
  },
  {
   "cell_type": "code",
   "execution_count": 55,
   "metadata": {},
   "outputs": [
    {
     "data": {
      "image/png": "[encoded data removed]",
      "text/plain": [
       "<Figure size 288x432 with 2 Axes>"
      ]
     },
     "metadata": {
      "needs_background": "light"
     },
     "output_type": "display_data"
    }
   ],
   "source": [
    "max_vline = 0.9\n",
    "ymax = X.max()\n",
    "τ_star_days = (get_last_NPI_date(country) - start_date).days\n",
    "\n",
    "fig, axes = plt.subplots(2, 1, figsize=(4, 6), sharex=True, sharey=True)\n",
    "\n",
    "t = range(0, ndays)\n",
    "for ax in axes.flat:\n",
    "    ax.plot(t, X, '*', color='k', alpha=0.5)\n",
    "    ax.plot(t, X_mean, '-', color='k')\n",
    "\n",
    "ax = axes[0]\n",
    "ax.set_title('Official date')\n",
    "ax.plot(t, y_star.T, color=red, alpha=0.01)\n",
    "# ax.fill_between(t, y_starlow, y_starhigh, color=red, alpha=0.5)\n",
    "# ax.axvline(τ_star_days, ymax=max_vline, color=red,   ls='-', lw=3)\n",
    "# ax.axvline(τ_star_days+7, ymax=max_vline, color=red,   ls='-', lw=3)\n",
    "ax.fill_between([τ_star_days, τ_star_days+7], 0, ymax, color='k', alpha=0.3)\n",
    "\n",
    "ax = axes[1]\n",
    "ax.set_title('Effective date')\n",
    "ax.plot(t, y_hat.T, color=blue, alpha=0.01)\n",
    "# ax.fill_between(t, y_hatlow, y_hathigh, color=blue, alpha=0.5)\n",
    "# ax.axvline(τ, ymax=max_vline, color=blue, ls='-', lw=3)\n",
    "# ax.axvline(τ+7, ymax=max_vline, color=blue, ls='-', lw=3)\n",
    "ax.fill_between([τ, τ+7], 0, ymax, color='k', alpha=0.3)\n",
    "\n",
    "days = t[::5]\n",
    "labels = [τ_to_string(d) for d in days]\n",
    "ax.set_xticks(days)\n",
    "ax.set_xticklabels(labels, rotation=45)\n",
    "ax.set_xlim(10, None)\n",
    "ax.set_ylim(0, ymax+100)\n",
    "txt = fig_ylabel(fig, 'Daily cases')\n",
    "\n",
    "fig.tight_layout()\n",
    "# fig.suptitle(country)\n",
    "fig_panel_labels(axes, xcoord=0.02)\n",
    "sns.despine()\n",
    "fig.savefig('../../output-tmp/fig5.pdf', dpi=100, **savefig_bbox(txt))"
   ]
  },
  {
   "cell_type": "code",
   "execution_count": 50,
   "metadata": {},
   "outputs": [
    {
     "data": {
      "text/plain": [
       "array([   0,    0,    0,    0,    0,   14,   62,   53,   97,   93,   78,\n",
       "        250,  238,  240,  561,  347,  466,  587,  769,  778, 1247, 1492,\n",
       "       1797,  977, 2313, 2651, 2547, 3497, 2823, 4000, 3526, 4207, 5322,\n",
       "       5986, 6557, 5560, 4789, 5249, 5210, 6153, 5959, 5974, 5217, 4050,\n",
       "       4053, 4782, 4668, 4585, 4805, 4316, 3599, 3039, 3836, 4204, 3951,\n",
       "       4694, 4092, 3153, 2972, 2667, 3786, 3493, 3491, 3047, 2256, 2729,\n",
       "       3370, 2646])"
      ]
     },
     "execution_count": 50,
     "metadata": {},
     "output_type": "execute_result"
    }
   ],
   "source": [
    "X"
   ]
  },
  {
   "cell_type": "code",
   "execution_count": 60,
   "metadata": {},
   "outputs": [
    {
     "data": {
      "text/plain": [
       "'Mar 28'"
      ]
     },
     "execution_count": 60,
     "metadata": {},
     "output_type": "execute_result"
    }
   ],
   "source": [
    "labels[8]"
   ]
  },
  {
   "cell_type": "code",
   "execution_count": null,
   "metadata": {},
   "outputs": [],
   "source": []
  }
 ],
 "metadata": {
  "kernelspec": {
   "display_name": "Python 3",
   "language": "python",
   "name": "python3"
  }
 },
 "nbformat": 4,
 "nbformat_minor": 4
}
