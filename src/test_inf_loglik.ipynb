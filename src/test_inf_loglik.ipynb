{
 "cells": [
  {
   "cell_type": "code",
   "execution_count": 1,
   "metadata": {},
   "outputs": [
    {
     "data": {
      "application/javascript": [
       "IPython.OutputArea.prototype._should_scroll = function(lines) {\n",
       "    return false;\n",
       "}\n"
      ],
      "text/plain": [
       "<IPython.core.display.Javascript object>"
      ]
     },
     "metadata": {},
     "output_type": "display_data"
    }
   ],
   "source": [
    "%%javascript\n",
    "IPython.OutputArea.prototype._should_scroll = function(lines) {\n",
    "    return false;\n",
    "}"
   ]
  },
  {
   "cell_type": "code",
   "execution_count": 2,
   "metadata": {},
   "outputs": [
    {
     "name": "stderr",
     "output_type": "stream",
     "text": [
      "/Users/adsurbum/anaconda2/envs/py371/lib/python3.7/site-packages/statsmodels/tools/_testing.py:19: FutureWarning: pandas.util.testing is deprecated. Use the functions in the public API at pandas.testing instead.\n",
      "  import pandas.util.testing as tm\n"
     ]
    }
   ],
   "source": [
    "%load_ext autoreload\n",
    "%autoreload\n",
    "exec(open(\"plot_utils.py\").read())"
   ]
  },
  {
   "cell_type": "code",
   "execution_count": 95,
   "metadata": {},
   "outputs": [],
   "source": [
    "country_name = 'Denmark'\n",
    "file_name = '../output/2020-05-12-fixed-deltat0-new-normal-100k/inference/{}.npz'.format(country_name)\n",
    "data = np.load(file_name)\n",
    "\n"
   ]
  },
  {
   "cell_type": "code",
   "execution_count": 96,
   "metadata": {},
   "outputs": [],
   "source": [
    "var_names = list(data['var_names'])\n",
    "incidences = data['incidences']\n",
    "chain = data['chain']\n",
    "nsteps, ndim, N, Td1, Td2, τ_model = data['params']\n",
    "nburn = int(nsteps * 0.6)\n",
    "sample = chain[:, nburn:, :].reshape(-1, ndim)\n",
    "\n",
    "medians = [np.median(sample[:,i]) for i in range(len(var_names))]\n",
    "means = [sample[:,i].mean() for i in range(len(var_names))]\n",
    "lnprobability = data['lnprobability'][:, nburn:]\n",
    "MAP = sample[lnprobability.argmax()]"
   ]
  },
  {
   "cell_type": "code",
   "execution_count": 97,
   "metadata": {},
   "outputs": [
    {
     "data": {
      "text/plain": [
       "[('Z', 3.7760482200115915, 3.8831139025358827),\n",
       " ('D', 3.4661229705973677, 3.446953886769261),\n",
       " ('μ', 0.39694258261800125, 0.3494410585274323),\n",
       " ('β', 1.0539407076749148, 1.0153880884790263),\n",
       " ('α1', 0.0927636889106337, 0.04447129657541335),\n",
       " ('λ', 0.3670355003296399, 0.313196703327396),\n",
       " ('α2', 0.5581233315698805, 0.5609320861881292),\n",
       " ('E0', 782.8967506034869, 532.4624493355763),\n",
       " ('Iu0', 950.6886963794642, 749.8657321073466),\n",
       " ('Δt0', 2.877351056793107, 2.63310383706265),\n",
       " ('τ', 16.295854877458915, 15.860176607721545)]"
      ]
     },
     "execution_count": 97,
     "metadata": {},
     "output_type": "execute_result"
    }
   ],
   "source": [
    "list(zip(var_names, means, medians))"
   ]
  },
  {
   "cell_type": "markdown",
   "metadata": {},
   "source": [
    "## medians"
   ]
  },
  {
   "cell_type": "code",
   "execution_count": 100,
   "metadata": {},
   "outputs": [],
   "source": [
    "seed_max = 3000\n",
    "params_bounds = {\n",
    "    'Z' : (2, 5),\n",
    "    'D' : (2, 5),\n",
    "    'μ' : (0.2, 1),\n",
    "    'β' : (0.8, 1.5),\n",
    "    'α1' : (0.02, 1),\n",
    "    'λ'  : (0, 1),\n",
    "    'α2' : (0.02, 1),\n",
    "    'E0' : (0, seed_max),\n",
    "    'Iu0' : (0, seed_max),\n",
    "    'Δt0' : (1,5) #how much zeros before the first incident\n",
    "}\n",
    "\n",
    "## loglikelihood code:\n",
    "θ = medians\n",
    "X = incidences\n",
    "Z, D, μ, β, α1, λ, α2, E0, Iu0, Δt0, τ = θ\n",
    "τ = int(τ) # for explanation see https://github.com/dfm/emcee/issues/150\n",
    "Δt0 = int(Δt0)\n",
    "\n",
    "total_zeros = params_bounds['Δt0'][1]\n",
    "unrellevant_zeros = total_zeros - Δt0\n",
    "τ = τ - unrellevant_zeros\n",
    "X = X[unrellevant_zeros:]\n",
    "ndays = len(X)\n",
    "\n",
    "S, E, Ir, Iu, R, Y = simulate(Z, D, μ, β, α1, λ, α2, E0, Iu0, Δt0, τ, ndays, N)\n",
    "p1 = 1/Td1\n",
    "p2 = 1/Td2\n",
    "Xsum = X.cumsum() \n",
    "n = Y[1:] - Xsum[:-1] \n",
    "n = np.maximum(0, n)\n",
    "p = ([p1] * τ + [p2] * (ndays - τ))[1:]\n",
    "\n",
    "loglik = scipy.stats.poisson.logpmf(X[Δt0:], n[Δt0-1:] * p[Δt0-1:])"
   ]
  },
  {
   "cell_type": "code",
   "execution_count": 105,
   "metadata": {},
   "outputs": [
    {
     "name": "stdout",
     "output_type": "stream",
     "text": [
      "day\tloglik\tX\tXsum\tY\tn\n",
      "0\t0\t0\t0\t0\t6\n",
      "1\t0\t0\t0\t6\t14\n",
      "2\t-1\t1\t1\t14\t21\n",
      "3\t-2\t0\t1\t22\t30\n",
      "4\t-2\t1\t2\t31\t39\n",
      "5\t-2\t1\t3\t41\t48\n",
      "6\t-3\t1\t4\t51\t57\n",
      "7\t-4\t1\t5\t61\t67\n",
      "8\t-3\t3\t8\t72\t76\n",
      "9\t-4\t2\t10\t84\t86\n",
      "10\t-2\t10\t20\t96\t88\n",
      "11\t-4\t3\t23\t108\t85\n",
      "12\t-3\t8\t31\t108\t225\n",
      "13\t-20\t7\t38\t256\t349\n",
      "14\t-5\t75\t113\t387\t393\n",
      "15\t-43\t151\t264\t506\t353\n",
      "16\t-176\t252\t516\t617\t206\n",
      "17\t-123\t160\t676\t722\t146\n",
      "18\t-112\t128\t804\t822\t114\n",
      "19\t-2\t23\t827\t918\t183\n",
      "20\t-7\t48\t875\t1010\t224\n",
      "21\t-7\t57\t932\t1099\t253\n",
      "22\t-24\t92\t1024\t1185\t245\n",
      "23\t-25\t91\t1115\t1269\t234\n",
      "24\t-2\t36\t1151\t1349\t277\n",
      "25\t-29\t104\t1255\t1428\t248\n",
      "26\t-11\t71\t1326\t1503\t251\n",
      "27\t-10\t69\t1395\t1577\t253\n",
      "28\t-8\t65\t1460\t1648\t257\n",
      "29\t-61\t131\t1591\t1717\t192\n",
      "30\t-91\t133\t1724\t1783\t124\n",
      "31\t-176\t153\t1877\t1848\t34\n"
     ]
    }
   ],
   "source": [
    "def r(arr):\n",
    "    return [str(int(a)) if not np.isinf(a) else '-inf' for a in arr]\n",
    "def r_arrays(arr):\n",
    "    return [r(a) for a in arr]\n",
    "\n",
    "loglik_to_print = np.array([0]*Δt0+list(loglik))\n",
    "print('\\t'.join(['day', 'loglik', 'X', 'Xsum', 'Y', 'n']))\n",
    "arr = r_arrays(list(zip(range(len(X)),loglik_to_print,X, Xsum, Y, n)))\n",
    "for a in arr:\n",
    "    print('\\t'.join(a))"
   ]
  },
  {
   "cell_type": "markdown",
   "metadata": {},
   "source": [
    "## means"
   ]
  },
  {
   "cell_type": "code",
   "execution_count": 108,
   "metadata": {},
   "outputs": [],
   "source": [
    "## loglikelihood code:\n",
    "θ = means\n",
    "X = incidences\n",
    "Z, D, μ, β, α1, λ, α2, E0, Iu0, Δt0, τ = θ\n",
    "τ = int(τ) # for explanation see https://github.com/dfm/emcee/issues/150\n",
    "Δt0 = int(Δt0)\n",
    "\n",
    "total_zeros = params_bounds['Δt0'][1]\n",
    "unrellevant_zeros = total_zeros - Δt0\n",
    "τ = τ - unrellevant_zeros\n",
    "X = X[unrellevant_zeros:]\n",
    "ndays = len(X)\n",
    "\n",
    "S, E, Ir, Iu, R, Y = simulate(Z, D, μ, β, α1, λ, α2, E0, Iu0, Δt0, τ, ndays, N)\n",
    "p1 = 1/Td1\n",
    "p2 = 1/Td2\n",
    "Xsum = X.cumsum() \n",
    "n = Y[1:] - Xsum[:-1] \n",
    "n = np.maximum(0, n)\n",
    "p = ([p1] * τ + [p2] * (ndays - τ))[1:]\n",
    "\n",
    "loglik = scipy.stats.poisson.logpmf(X[Δt0:], n[Δt0-1:] * p[Δt0-1:])"
   ]
  },
  {
   "cell_type": "code",
   "execution_count": 109,
   "metadata": {},
   "outputs": [
    {
     "name": "stdout",
     "output_type": "stream",
     "text": [
      "day\tloglik\tX\tXsum\tY\tn\n",
      "0\t0\t0\t0\t0\t21\n",
      "1\t0\t0\t0\t21\t46\n",
      "2\t-3\t1\t1\t46\t73\n",
      "3\t-8\t0\t1\t74\t103\n",
      "4\t-9\t1\t2\t104\t136\n",
      "5\t-12\t1\t3\t138\t171\n",
      "6\t-16\t1\t4\t174\t210\n",
      "7\t-20\t1\t5\t214\t252\n",
      "8\t-19\t3\t8\t257\t295\n",
      "9\t-26\t2\t10\t303\t343\n",
      "10\t-16\t10\t20\t353\t387\n",
      "11\t-33\t3\t23\t407\t443\n",
      "12\t-28\t8\t31\t466\t435\n",
      "13\t-51\t7\t38\t466\t773\n",
      "14\t-16\t75\t113\t811\t1014\n",
      "15\t-4\t151\t264\t1127\t1160\n",
      "16\t-11\t252\t516\t1424\t1195\n",
      "17\t-7\t160\t676\t1711\t1315\n",
      "18\t-25\t128\t804\t1991\t1464\n",
      "19\t-169\t23\t827\t2268\t1715\n",
      "20\t-155\t48\t875\t2542\t1939\n",
      "21\t-170\t57\t932\t2814\t2153\n",
      "22\t-144\t92\t1024\t3085\t2331\n",
      "23\t-168\t91\t1115\t3355\t2508\n",
      "24\t-296\t36\t1151\t3623\t2741\n",
      "25\t-202\t104\t1255\t3892\t2904\n",
      "26\t-279\t71\t1326\t4159\t3099\n",
      "27\t-311\t69\t1395\t4425\t3296\n",
      "28\t-348\t65\t1460\t4691\t3496\n",
      "29\t-259\t131\t1591\t4956\t3629\n",
      "30\t-273\t133\t1724\t5220\t3760\n",
      "31\t-261\t153\t1877\t5484\t3870\n"
     ]
    }
   ],
   "source": [
    "def r(arr):\n",
    "    return [str(int(a)) if not np.isinf(a) else '-inf' for a in arr]\n",
    "def r_arrays(arr):\n",
    "    return [r(a) for a in arr]\n",
    "\n",
    "loglik_to_print = np.array([0]*Δt0+list(loglik))\n",
    "print('\\t'.join(['day', 'loglik', 'X', 'Xsum', 'Y', 'n']))\n",
    "arr = r_arrays(list(zip(range(len(X)),loglik_to_print,X, Xsum, Y, n)))\n",
    "for a in arr:\n",
    "    print('\\t'.join(a))"
   ]
  },
  {
   "cell_type": "code",
   "execution_count": null,
   "metadata": {},
   "outputs": [],
   "source": []
  }
 ],
 "metadata": {
  "kernelspec": {
   "display_name": "Environment (conda_py371)",
   "language": "python",
   "name": "conda_py371"
  },
  "language_info": {
   "codemirror_mode": {
    "name": "ipython",
    "version": 3
   },
   "file_extension": ".py",
   "mimetype": "text/x-python",
   "name": "python",
   "nbconvert_exporter": "python",
   "pygments_lexer": "ipython3",
   "version": "3.7.2"
  }
 },
 "nbformat": 4,
 "nbformat_minor": 2
}
