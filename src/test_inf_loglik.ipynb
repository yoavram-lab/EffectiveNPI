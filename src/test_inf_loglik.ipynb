{
 "cells": [
  {
   "cell_type": "code",
   "execution_count": 3,
   "metadata": {},
   "outputs": [
    {
     "data": {
      "application/javascript": [
       "IPython.OutputArea.prototype._should_scroll = function(lines) {\n",
       "    return false;\n",
       "}\n"
      ],
      "text/plain": [
       "<IPython.core.display.Javascript object>"
      ]
     },
     "metadata": {},
     "output_type": "display_data"
    }
   ],
   "source": [
    "%%javascript\n",
    "IPython.OutputArea.prototype._should_scroll = function(lines) {\n",
    "    return false;\n",
    "}"
   ]
  },
  {
   "cell_type": "code",
   "execution_count": 13,
   "metadata": {},
   "outputs": [
    {
     "name": "stdout",
     "output_type": "stream",
     "text": [
      "The autoreload extension is already loaded. To reload it, use:\n",
      "  %reload_ext autoreload\n"
     ]
    }
   ],
   "source": [
    "%load_ext autoreload\n",
    "%autoreload\n",
    "exec(open(\"plot_utils.py\").read())"
   ]
  },
  {
   "cell_type": "code",
   "execution_count": 5,
   "metadata": {},
   "outputs": [],
   "source": [
    "country_name = 'Sweden'\n",
    "file_name = '../output/2020-05-09-deltat0-more-steps-normal/inference/{}.npz'.format(country_name)\n",
    "data = np.load(file_name)\n",
    "\n"
   ]
  },
  {
   "cell_type": "code",
   "execution_count": 18,
   "metadata": {},
   "outputs": [
    {
     "ename": "IndexError",
     "evalue": "single positional indexer is out-of-bounds",
     "output_type": "error",
     "traceback": [
      "\u001b[0;31m---------------------------------------------------------------------------\u001b[0m",
      "\u001b[0;31mIndexError\u001b[0m                                Traceback (most recent call last)",
      "\u001b[0;32m<ipython-input-18-73b5d2030266>\u001b[0m in \u001b[0;36m<module>\u001b[0;34m\u001b[0m\n\u001b[1;32m      1\u001b[0m \u001b[0mdf\u001b[0m \u001b[0;34m=\u001b[0m \u001b[0mpd\u001b[0m\u001b[0;34m.\u001b[0m\u001b[0mread_csv\u001b[0m\u001b[0;34m(\u001b[0m\u001b[0;34m'../data/NPI_dates.csv'\u001b[0m\u001b[0;34m,\u001b[0m\u001b[0mparse_dates\u001b[0m\u001b[0;34m=\u001b[0m\u001b[0;34m[\u001b[0m\u001b[0;34m'First'\u001b[0m\u001b[0;34m,\u001b[0m\u001b[0;34m'Last'\u001b[0m\u001b[0;34m]\u001b[0m\u001b[0;34m)\u001b[0m\u001b[0;34m\u001b[0m\u001b[0;34m\u001b[0m\u001b[0m\n\u001b[0;32m----> 2\u001b[0;31m \u001b[0mdf\u001b[0m\u001b[0;34m[\u001b[0m\u001b[0mdf\u001b[0m\u001b[0;34m[\u001b[0m\u001b[0;34m'Country'\u001b[0m\u001b[0;34m]\u001b[0m\u001b[0;34m==\u001b[0m\u001b[0;34m'United_Kingdom'\u001b[0m\u001b[0;34m]\u001b[0m\u001b[0;34m[\u001b[0m\u001b[0;34m'First'\u001b[0m\u001b[0;34m]\u001b[0m\u001b[0;34m.\u001b[0m\u001b[0miloc\u001b[0m\u001b[0;34m[\u001b[0m\u001b[0;36m0\u001b[0m\u001b[0;34m]\u001b[0m\u001b[0;34m.\u001b[0m\u001b[0mto_pydatetime\u001b[0m\u001b[0;34m(\u001b[0m\u001b[0;34m)\u001b[0m\u001b[0;34m\u001b[0m\u001b[0;34m\u001b[0m\u001b[0m\n\u001b[0m",
      "\u001b[0;32m~/anaconda2/envs/py371/lib/python3.7/site-packages/pandas/core/indexing.py\u001b[0m in \u001b[0;36m__getitem__\u001b[0;34m(self, key)\u001b[0m\n\u001b[1;32m   1766\u001b[0m \u001b[0;34m\u001b[0m\u001b[0m\n\u001b[1;32m   1767\u001b[0m             \u001b[0mmaybe_callable\u001b[0m \u001b[0;34m=\u001b[0m \u001b[0mcom\u001b[0m\u001b[0;34m.\u001b[0m\u001b[0mapply_if_callable\u001b[0m\u001b[0;34m(\u001b[0m\u001b[0mkey\u001b[0m\u001b[0;34m,\u001b[0m \u001b[0mself\u001b[0m\u001b[0;34m.\u001b[0m\u001b[0mobj\u001b[0m\u001b[0;34m)\u001b[0m\u001b[0;34m\u001b[0m\u001b[0;34m\u001b[0m\u001b[0m\n\u001b[0;32m-> 1768\u001b[0;31m             \u001b[0;32mreturn\u001b[0m \u001b[0mself\u001b[0m\u001b[0;34m.\u001b[0m\u001b[0m_getitem_axis\u001b[0m\u001b[0;34m(\u001b[0m\u001b[0mmaybe_callable\u001b[0m\u001b[0;34m,\u001b[0m \u001b[0maxis\u001b[0m\u001b[0;34m=\u001b[0m\u001b[0maxis\u001b[0m\u001b[0;34m)\u001b[0m\u001b[0;34m\u001b[0m\u001b[0;34m\u001b[0m\u001b[0m\n\u001b[0m\u001b[1;32m   1769\u001b[0m \u001b[0;34m\u001b[0m\u001b[0m\n\u001b[1;32m   1770\u001b[0m     \u001b[0;32mdef\u001b[0m \u001b[0m_is_scalar_access\u001b[0m\u001b[0;34m(\u001b[0m\u001b[0mself\u001b[0m\u001b[0;34m,\u001b[0m \u001b[0mkey\u001b[0m\u001b[0;34m:\u001b[0m \u001b[0mTuple\u001b[0m\u001b[0;34m)\u001b[0m\u001b[0;34m:\u001b[0m\u001b[0;34m\u001b[0m\u001b[0;34m\u001b[0m\u001b[0m\n",
      "\u001b[0;32m~/anaconda2/envs/py371/lib/python3.7/site-packages/pandas/core/indexing.py\u001b[0m in \u001b[0;36m_getitem_axis\u001b[0;34m(self, key, axis)\u001b[0m\n\u001b[1;32m   2136\u001b[0m \u001b[0;34m\u001b[0m\u001b[0m\n\u001b[1;32m   2137\u001b[0m             \u001b[0;31m# validate the location\u001b[0m\u001b[0;34m\u001b[0m\u001b[0;34m\u001b[0m\u001b[0;34m\u001b[0m\u001b[0m\n\u001b[0;32m-> 2138\u001b[0;31m             \u001b[0mself\u001b[0m\u001b[0;34m.\u001b[0m\u001b[0m_validate_integer\u001b[0m\u001b[0;34m(\u001b[0m\u001b[0mkey\u001b[0m\u001b[0;34m,\u001b[0m \u001b[0maxis\u001b[0m\u001b[0;34m)\u001b[0m\u001b[0;34m\u001b[0m\u001b[0;34m\u001b[0m\u001b[0m\n\u001b[0m\u001b[1;32m   2139\u001b[0m \u001b[0;34m\u001b[0m\u001b[0m\n\u001b[1;32m   2140\u001b[0m             \u001b[0;32mreturn\u001b[0m \u001b[0mself\u001b[0m\u001b[0;34m.\u001b[0m\u001b[0m_get_loc\u001b[0m\u001b[0;34m(\u001b[0m\u001b[0mkey\u001b[0m\u001b[0;34m,\u001b[0m \u001b[0maxis\u001b[0m\u001b[0;34m=\u001b[0m\u001b[0maxis\u001b[0m\u001b[0;34m)\u001b[0m\u001b[0;34m\u001b[0m\u001b[0;34m\u001b[0m\u001b[0m\n",
      "\u001b[0;32m~/anaconda2/envs/py371/lib/python3.7/site-packages/pandas/core/indexing.py\u001b[0m in \u001b[0;36m_validate_integer\u001b[0;34m(self, key, axis)\u001b[0m\n\u001b[1;32m   2061\u001b[0m         \u001b[0mlen_axis\u001b[0m \u001b[0;34m=\u001b[0m \u001b[0mlen\u001b[0m\u001b[0;34m(\u001b[0m\u001b[0mself\u001b[0m\u001b[0;34m.\u001b[0m\u001b[0mobj\u001b[0m\u001b[0;34m.\u001b[0m\u001b[0m_get_axis\u001b[0m\u001b[0;34m(\u001b[0m\u001b[0maxis\u001b[0m\u001b[0;34m)\u001b[0m\u001b[0;34m)\u001b[0m\u001b[0;34m\u001b[0m\u001b[0;34m\u001b[0m\u001b[0m\n\u001b[1;32m   2062\u001b[0m         \u001b[0;32mif\u001b[0m \u001b[0mkey\u001b[0m \u001b[0;34m>=\u001b[0m \u001b[0mlen_axis\u001b[0m \u001b[0;32mor\u001b[0m \u001b[0mkey\u001b[0m \u001b[0;34m<\u001b[0m \u001b[0;34m-\u001b[0m\u001b[0mlen_axis\u001b[0m\u001b[0;34m:\u001b[0m\u001b[0;34m\u001b[0m\u001b[0;34m\u001b[0m\u001b[0m\n\u001b[0;32m-> 2063\u001b[0;31m             \u001b[0;32mraise\u001b[0m \u001b[0mIndexError\u001b[0m\u001b[0;34m(\u001b[0m\u001b[0;34m\"single positional indexer is out-of-bounds\"\u001b[0m\u001b[0;34m)\u001b[0m\u001b[0;34m\u001b[0m\u001b[0;34m\u001b[0m\u001b[0m\n\u001b[0m\u001b[1;32m   2064\u001b[0m \u001b[0;34m\u001b[0m\u001b[0m\n\u001b[1;32m   2065\u001b[0m     \u001b[0;32mdef\u001b[0m \u001b[0m_getitem_tuple\u001b[0m\u001b[0;34m(\u001b[0m\u001b[0mself\u001b[0m\u001b[0;34m,\u001b[0m \u001b[0mtup\u001b[0m\u001b[0;34m:\u001b[0m \u001b[0mTuple\u001b[0m\u001b[0;34m)\u001b[0m\u001b[0;34m:\u001b[0m\u001b[0;34m\u001b[0m\u001b[0;34m\u001b[0m\u001b[0m\n",
      "\u001b[0;31mIndexError\u001b[0m: single positional indexer is out-of-bounds"
     ]
    }
   ],
   "source": [
    "df = pd.read_csv('../data/NPI_dates.csv',parse_dates=['First','Last'])\n",
    "df[df['Country']=='United_Kingdom']['First'].iloc[0].to_pydatetime()"
   ]
  },
  {
   "cell_type": "code",
   "execution_count": 6,
   "metadata": {},
   "outputs": [],
   "source": [
    "var_names = list(data['var_names'])\n",
    "incidences = data['incidences']\n",
    "chain = data['chain']\n",
    "nsteps, ndim, N, Td1, Td2, τ_model = data['params']\n",
    "nburn = int(nsteps * 0.6)\n",
    "sample = chain[:, nburn:, :].reshape(-1, ndim)\n",
    "\n",
    "medians = [np.median(sample[:,i]) for i in range(len(var_names))]\n",
    "means = [sample[:,i].mean() for i in range(len(var_names))]\n",
    "lnprobability = data['lnprobability'][:, nburn:]\n",
    "MAP = sample[lnprobability.argmax()]"
   ]
  },
  {
   "cell_type": "code",
   "execution_count": 8,
   "metadata": {},
   "outputs": [
    {
     "data": {
      "text/plain": [
       "[('Z', 3.8984625194248097, 4.0560039618509816),\n",
       " ('D', 3.494481433233447, 3.487784466814483),\n",
       " ('μ', 0.4805096811929219, 0.4292044874748192),\n",
       " ('β', 1.085728823946531, 1.055669610679371),\n",
       " ('α1', 0.18640106847592025, 0.10201995949103443),\n",
       " ('λ', 0.6174071198426647, 0.6174563374801387),\n",
       " ('α2', 0.3127706389991906, 0.2430407527564623),\n",
       " ('E0', 522.3487911364391, 261.59729603294494),\n",
       " ('Iu0', 645.9161956900988, 340.9878457191422),\n",
       " ('Δt0', 3.0285386427376513, 2.786489306197325),\n",
       " ('τ', 18.831399862722208, 18.1631254331068)]"
      ]
     },
     "execution_count": 8,
     "metadata": {},
     "output_type": "execute_result"
    }
   ],
   "source": [
    "list(zip(var_names, means, medians))"
   ]
  },
  {
   "cell_type": "markdown",
   "metadata": {},
   "source": [
    "## medians"
   ]
  },
  {
   "cell_type": "code",
   "execution_count": 16,
   "metadata": {},
   "outputs": [],
   "source": [
    "seed_max = 3000\n",
    "params_bounds = {\n",
    "    'Z' : (2, 5),\n",
    "    'D' : (2, 5),\n",
    "    'μ' : (0.2, 1),\n",
    "    'β' : (0.8, 1.5),\n",
    "    'α1' : (0.02, 1),\n",
    "    'λ'  : (0, 1),\n",
    "    'α2' : (0.02, 1),\n",
    "    'E0' : (0, seed_max),\n",
    "    'Iu0' : (0, seed_max),\n",
    "    'Δt0' : (1,5) #how much zeros before the first incident\n",
    "}\n",
    "\n",
    "## loglikelihood code:\n",
    "θ = medians\n",
    "X = incidences\n",
    "Z, D, μ, β, α1, λ, α2, E0, Iu0, Δt0, τ = θ\n",
    "Δt0 = int(Δt0)\n",
    "τ = int(τ) # for explanation see https://github.com/dfm/emcee/issues/150\n",
    "\n",
    "total_zeros = params_bounds['Δt0'][1]\n",
    "unrellevant_zeros = total_zeros - Δt0\n",
    "τ = τ - unrellevant_zeros\n",
    "X = X[unrellevant_zeros:]\n",
    "ndays = len(X)\n",
    "\n",
    "S, E, Ir, Iu, R, Y = simulate(Z, D, μ, β, α1, λ, α2, E0, Iu0, Δt0, τ, ndays, N)\n",
    "p1 = 1/Td1\n",
    "p2 = 1/Td2\n",
    "Xsum = X.cumsum() \n",
    "n = Y[1:] - Xsum[:-1] \n",
    "n = np.maximum(0, n)\n",
    "p = ([p1] * τ + [p2] * (ndays - τ))[1:]\n",
    "\n",
    "loglik = scipy.stats.poisson.logpmf(X[Δt0:], n[Δt0-1:] * p[Δt0-1:])"
   ]
  },
  {
   "cell_type": "code",
   "execution_count": 15,
   "metadata": {},
   "outputs": [
    {
     "name": "stdout",
     "output_type": "stream",
     "text": [
      "day\tloglik\tX\tXsum\tY\tn\n",
      "0\t-1\t0\t0\t0\t7\n",
      "1\t-2\t0\t0\t7\t16\n",
      "2\t-1\t1\t1\t16\t26\n",
      "3\t-3\t5\t6\t27\t33\n",
      "4\t-4\t5\t11\t39\t41\n",
      "5\t-5\t1\t12\t52\t55\n",
      "6\t-2\t1\t13\t67\t70\n",
      "7\t-2\t1\t14\t83\t86\n",
      "8\t-8\t9\t23\t100\t97\n",
      "9\t-81\t11\t34\t120\t107\n",
      "10\t-18\t26\t60\t141\t103\n",
      "11\t-46\t76\t136\t163\t53\n",
      "12\t-61\t24\t160\t189\t56\n",
      "13\t-138\t42\t202\t216\t44\n",
      "14\t-inf\t45\t247\t246\t32\n",
      "15\t-inf\t78\t325\t279\t0\n",
      "16\t-inf\t136\t461\t315\t0\n",
      "17\t-inf\t158\t619\t355\t0\n",
      "18\t-inf\t155\t774\t355\t0\n",
      "19\t-inf\t149\t923\t452\t0\n",
      "20\t-inf\t108\t1031\t548\t0\n",
      "21\t-inf\t89\t1120\t645\t0\n",
      "22\t-inf\t46\t1166\t744\t0\n",
      "23\t-inf\t134\t1300\t847\t0\n",
      "24\t-inf\t122\t1422\t952\t0\n",
      "25\t-inf\t200\t1622\t1061\t0\n",
      "26\t-inf\t123\t1745\t1174\t0\n",
      "27\t-inf\t160\t1905\t1292\t0\n",
      "28\t-inf\t110\t2015\t1413\t0\n",
      "29\t-inf\t256\t2271\t1539\t0\n",
      "30\t-inf\t238\t2509\t1669\t0\n"
     ]
    }
   ],
   "source": [
    "def r(arr):\n",
    "    return [str(int(a)) if not np.isinf(a) else '-inf' for a in arr]\n",
    "def r_arrays(arr):\n",
    "    return [r(a) for a in arr]\n",
    "\n",
    "print('\\t'.join(['day', 'loglik', 'X', 'Xsum', 'Y', 'n']))\n",
    "arr = r_arrays(list(zip(range(len(X)),loglik,X, Xsum, Y, n)))\n",
    "for a in arr:\n",
    "    print('\\t'.join(a))"
   ]
  },
  {
   "cell_type": "markdown",
   "metadata": {},
   "source": [
    "## means"
   ]
  },
  {
   "cell_type": "code",
   "execution_count": 134,
   "metadata": {},
   "outputs": [],
   "source": [
    "## loglikelihood code:\n",
    "θ = means\n",
    "X = incidences\n",
    "Z, D, μ, β, α1, λ, α2, E0, Iu0, Δt0, τ = θ\n",
    "τ = int(τ) # for explanation see https://github.com/dfm/emcee/issues/150\n",
    "Δt0 = int(Δt0)\n",
    "\n",
    "ndays = len(X)\n",
    "S, E, Ir, Iu, R, Y = simulate(*θ, ndays, N)\n",
    "p1 = 1/Td1\n",
    "p2 = 1/Td2\n",
    "Xsum = X.cumsum() \n",
    "n = Y[1:] - Xsum[:-1] \n",
    "n = np.maximum(0, n)\n",
    "p = ([p1] * τ + [p2] * (ndays - τ))[1:]\n",
    "\n",
    "loglik = scipy.stats.poisson.logpmf(X[Δt0:], n[Δt0-1:] * p[Δt0-1:])"
   ]
  },
  {
   "cell_type": "code",
   "execution_count": 135,
   "metadata": {},
   "outputs": [
    {
     "name": "stdout",
     "output_type": "stream",
     "text": [
      "day\tloglik\tX\tXsum\tY\tn\n",
      "0\t-12\t0\t0\t0\t29\n",
      "1\t-18\t0\t0\t29\t66\n",
      "2\t-21\t0\t0\t66\t110\n",
      "3\t-19\t0\t0\t110\t162\n",
      "4\t-26\t0\t0\t162\t220\n",
      "5\t-45\t1\t1\t220\t287\n",
      "6\t-55\t5\t6\t288\t359\n",
      "7\t-68\t5\t11\t365\t441\n",
      "8\t-59\t1\t12\t452\t540\n",
      "9\t-68\t1\t13\t552\t652\n",
      "10\t-56\t1\t14\t665\t780\n",
      "11\t-19\t9\t23\t794\t918\n",
      "12\t-87\t11\t34\t941\t1075\n",
      "13\t-78\t26\t60\t1109\t1239\n",
      "14\t-94\t76\t136\t1299\t1381\n",
      "15\t-119\t24\t160\t1517\t1604\n",
      "16\t-101\t42\t202\t1764\t1843\n",
      "17\t-119\t45\t247\t2045\t1798\n",
      "18\t-163\t78\t325\t2045\t2222\n",
      "19\t-218\t136\t461\t2547\t2596\n",
      "20\t-338\t158\t619\t3057\t2968\n",
      "21\t-448\t155\t774\t3587\t3370\n",
      "22\t-640\t149\t923\t4144\t3808\n",
      "23\t-535\t108\t1031\t4731\t4322\n",
      "24\t-648\t89\t1120\t5353\t4894\n",
      "25\t-594\t46\t1166\t6014\t5549\n",
      "26\t-840\t134\t1300\t6715\t6160\n",
      "27\t-872\t122\t1422\t7460\t6829\n",
      "28\t-1110\t200\t1622\t8251\t7470\n",
      "29\t-924\t123\t1745\t9092\t8241\n",
      "30\t-1076\t160\t1905\t9986\t9030\n",
      "31\t-1091\t110\t2015\t10935\t9928\n",
      "32\t-1336\t256\t2271\t11943\t10744\n"
     ]
    }
   ],
   "source": [
    "def r(arr):\n",
    "    return [str(int(a)) if not np.isinf(a) else '-inf' for a in arr]\n",
    "def r_arrays(arr):\n",
    "    return [r(a) for a in arr]\n",
    "\n",
    "print('\\t'.join(['day', 'loglik', 'X', 'Xsum', 'Y', 'n']))\n",
    "arr = r_arrays(list(zip(range(len(X)),loglik,X, Xsum, Y, n)))\n",
    "for a in arr:\n",
    "    print('\\t'.join(a))"
   ]
  },
  {
   "cell_type": "code",
   "execution_count": null,
   "metadata": {},
   "outputs": [],
   "source": []
  }
 ],
 "metadata": {
  "kernelspec": {
   "display_name": "Environment (conda_py371)",
   "language": "python",
   "name": "conda_py371"
  },
  "language_info": {
   "codemirror_mode": {
    "name": "ipython",
    "version": 3
   },
   "file_extension": ".py",
   "mimetype": "text/x-python",
   "name": "python",
   "nbconvert_exporter": "python",
   "pygments_lexer": "ipython3",
   "version": "3.7.2"
  }
 },
 "nbformat": 4,
 "nbformat_minor": 2
}
