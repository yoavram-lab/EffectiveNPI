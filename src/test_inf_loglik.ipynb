{
 "cells": [
  {
   "cell_type": "code",
   "execution_count": 1,
   "metadata": {},
   "outputs": [
    {
     "data": {
      "application/javascript": [
       "IPython.OutputArea.prototype._should_scroll = function(lines) {\n",
       "    return false;\n",
       "}\n"
      ],
      "text/plain": [
       "<IPython.core.display.Javascript object>"
      ]
     },
     "metadata": {},
     "output_type": "display_data"
    }
   ],
   "source": [
    "%%javascript\n",
    "IPython.OutputArea.prototype._should_scroll = function(lines) {\n",
    "    return false;\n",
    "}"
   ]
  },
  {
   "cell_type": "code",
   "execution_count": 2,
   "metadata": {},
   "outputs": [
    {
     "name": "stderr",
     "output_type": "stream",
     "text": [
      "/Users/adsurbum/anaconda2/envs/py371/lib/python3.7/site-packages/statsmodels/tools/_testing.py:19: FutureWarning: pandas.util.testing is deprecated. Use the functions in the public API at pandas.testing instead.\n",
      "  import pandas.util.testing as tm\n"
     ]
    }
   ],
   "source": [
    "%load_ext autoreload\n",
    "%autoreload\n",
    "exec(open(\"plot_utils.py\").read())"
   ]
  },
  {
   "cell_type": "code",
   "execution_count": 3,
   "metadata": {},
   "outputs": [],
   "source": [
    "country_name = 'Sweden'\n",
    "file_name = '../output/2020-05-12-fixed-deltat0-new-normal-100k/inference/{}.npz'.format(country_name)\n",
    "data = np.load(file_name)\n",
    "\n"
   ]
  },
  {
   "cell_type": "code",
   "execution_count": 4,
   "metadata": {},
   "outputs": [],
   "source": [
    "var_names = list(data['var_names'])\n",
    "incidences = data['incidences']\n",
    "chain = data['chain']\n",
    "nsteps, ndim, N, Td1, Td2, τ_model = data['params']\n",
    "nburn = int(nsteps * 0.6)\n",
    "sample = chain[:, nburn:, :].reshape(-1, ndim)\n",
    "\n",
    "medians = [np.median(sample[:,i]) for i in range(len(var_names))]\n",
    "means = [sample[:,i].mean() for i in range(len(var_names))]\n",
    "lnprobability = data['lnprobability'][:, nburn:]\n",
    "MAP = sample[lnprobability.argmax()]"
   ]
  },
  {
   "cell_type": "code",
   "execution_count": 5,
   "metadata": {},
   "outputs": [
    {
     "data": {
      "text/plain": [
       "[('Z', 3.854167140482578, 3.994927018906112),\n",
       " ('D', 3.4201515516543233, 3.411179005448763),\n",
       " ('μ', 0.4483497287149728, 0.3881799803223308),\n",
       " ('β', 1.0835115491413074, 1.050978495216374),\n",
       " ('α1', 0.16308341875155768, 0.1135492559481953),\n",
       " ('λ', 0.6791440211115766, 0.6843530936173623),\n",
       " ('α2', 0.29477082240443336, 0.23423300687219878),\n",
       " ('E0', 681.0155238953887, 448.98200984421044),\n",
       " ('Iu0', 823.952964290953, 578.0630227657103),\n",
       " ('Δt0', 2.4761021305700637, 2.042487360261745),\n",
       " ('τ', 18.09678803110381, 17.83867986682796)]"
      ]
     },
     "execution_count": 5,
     "metadata": {},
     "output_type": "execute_result"
    }
   ],
   "source": [
    "list(zip(var_names, means, medians))"
   ]
  },
  {
   "cell_type": "markdown",
   "metadata": {},
   "source": [
    "## medians"
   ]
  },
  {
   "cell_type": "code",
   "execution_count": 73,
   "metadata": {},
   "outputs": [],
   "source": [
    "seed_max = 3000\n",
    "params_bounds = {\n",
    "    'Z' : (2, 5),\n",
    "    'D' : (2, 5),\n",
    "    'μ' : (0.2, 1),\n",
    "    'β' : (0.8, 1.5),\n",
    "    'α1' : (0.02, 1),\n",
    "    'λ'  : (0, 1),\n",
    "    'α2' : (0.02, 1),\n",
    "    'E0' : (0, seed_max),\n",
    "    'Iu0' : (0, seed_max),\n",
    "    'Δt0' : (1,5) #how much zeros before the first incident\n",
    "}\n",
    "\n",
    "## loglikelihood code:\n",
    "θ = medians\n",
    "X = incidences\n",
    "Z, D, μ, β, α1, λ, α2, E0, Iu0, Δt0, τ = θ\n",
    "τ = int(τ) # for explanation see https://github.com/dfm/emcee/issues/150\n",
    "Δt0 = int(Δt0)\n",
    "\n",
    "total_zeros = params_bounds['Δt0'][1]\n",
    "unrellevant_zeros = total_zeros - Δt0\n",
    "τ = τ - unrellevant_zeros\n",
    "X = X[unrellevant_zeros:]\n",
    "ndays = len(X)\n",
    "\n",
    "S, E, Ir, Iu, R, Y = simulate(Z, D, μ, β, α1, λ, α2, E0, Iu0, Δt0, τ, ndays, N)\n",
    "p1 = 1/Td1\n",
    "p2 = 1/Td2\n",
    "Xsum = X.cumsum() \n",
    "n = Y[1:] - Xsum[:-1] \n",
    "n = np.maximum(0, n)\n",
    "p = ([p1] * τ + [p2] * (ndays - τ))[1:]\n",
    "\n",
    "loglik = scipy.stats.poisson.logpmf(X[Δt0:], n[Δt0-1:] * p[Δt0-1:])"
   ]
  },
  {
   "cell_type": "code",
   "execution_count": 70,
   "metadata": {},
   "outputs": [
    {
     "name": "stdout",
     "output_type": "stream",
     "text": [
      "day\tloglik\tX\tXsum\tY\tn\n",
      "0\t-2\t0\t0\t0\t14\n",
      "1\t-1\t0\t0\t14\t31\n",
      "2\t-2\t1\t1\t31\t49\n",
      "3\t-7\t5\t6\t50\t65\n",
      "4\t-9\t5\t11\t71\t83\n",
      "5\t-12\t1\t12\t94\t106\n",
      "6\t-4\t1\t13\t118\t132\n",
      "7\t-4\t1\t14\t145\t160\n",
      "8\t-2\t9\t23\t174\t183\n",
      "9\t-38\t11\t34\t206\t205\n",
      "10\t-2\t26\t60\t239\t216\n",
      "11\t-9\t76\t136\t276\t179\n",
      "12\t-8\t24\t160\t315\t197\n",
      "13\t-24\t42\t202\t357\t155\n",
      "14\t-85\t45\t247\t357\t200\n",
      "15\t-146\t78\t325\t447\t212\n",
      "16\t-204\t136\t461\t537\t168\n",
      "17\t-301\t158\t619\t629\t104\n",
      "18\t-inf\t155\t774\t723\t46\n",
      "19\t-inf\t149\t923\t820\t0\n",
      "20\t-96\t108\t1031\t921\t0\n",
      "21\t-191\t89\t1120\t1025\t14\n",
      "22\t-190\t46\t1166\t1134\t80\n",
      "23\t-404\t134\t1300\t1246\t63\n",
      "24\t-inf\t122\t1422\t1363\t62\n",
      "25\t-inf\t200\t1622\t1484\t0\n",
      "26\t-inf\t123\t1745\t1610\t0\n",
      "27\t-1283\t160\t1905\t1741\t0\n",
      "28\t-inf\t110\t2015\t1877\t3\n",
      "29\t-inf\t256\t2271\t2018\t0\n",
      "30\t-inf\t238\t2509\t2165\t0\n"
     ]
    }
   ],
   "source": [
    "def r(arr):\n",
    "    return [str(int(a)) if not np.isinf(a) else '-inf' for a in arr]\n",
    "def r_arrays(arr):\n",
    "    return [r(a) for a in arr]\n",
    "\n",
    "print('\\t'.join(['day', 'loglik', 'X', 'Xsum', 'Y', 'n']))\n",
    "arr = r_arrays(list(zip(range(len(X)),loglik,X, Xsum, Y, n)))\n",
    "for a in arr:\n",
    "    print('\\t'.join(a))"
   ]
  },
  {
   "cell_type": "markdown",
   "metadata": {},
   "source": [
    "## means"
   ]
  },
  {
   "cell_type": "code",
   "execution_count": 10,
   "metadata": {},
   "outputs": [],
   "source": [
    "## loglikelihood code:\n",
    "θ = means\n",
    "X = incidences\n",
    "Z, D, μ, β, α1, λ, α2, E0, Iu0, Δt0, τ = θ\n",
    "τ = int(τ) # for explanation see https://github.com/dfm/emcee/issues/150\n",
    "Δt0 = int(Δt0)\n",
    "\n",
    "total_zeros = params_bounds['Δt0'][1]\n",
    "unrellevant_zeros = total_zeros - Δt0\n",
    "τ = τ - unrellevant_zeros\n",
    "X = X[unrellevant_zeros:]\n",
    "ndays = len(X)\n",
    "\n",
    "S, E, Ir, Iu, R, Y = simulate(Z, D, μ, β, α1, λ, α2, E0, Iu0, Δt0, τ, ndays, N)\n",
    "p1 = 1/Td1\n",
    "p2 = 1/Td2\n",
    "Xsum = X.cumsum() \n",
    "n = Y[1:] - Xsum[:-1] \n",
    "n = np.maximum(0, n)\n",
    "p = ([p1] * τ + [p2] * (ndays - τ))[1:]\n",
    "\n",
    "loglik = scipy.stats.poisson.logpmf(X[Δt0:], n[Δt0-1:] * p[Δt0-1:])"
   ]
  },
  {
   "cell_type": "code",
   "execution_count": 11,
   "metadata": {},
   "outputs": [
    {
     "name": "stdout",
     "output_type": "stream",
     "text": [
      "day\tloglik\tX\tXsum\tY\tn\n",
      "0\t-6\t0\t0\t0\t33\n",
      "1\t-5\t0\t0\t33\t73\n",
      "2\t-8\t1\t1\t73\t120\n",
      "3\t-21\t5\t6\t121\t168\n",
      "4\t-28\t5\t11\t174\t224\n",
      "5\t-37\t1\t12\t235\t292\n",
      "6\t-27\t1\t13\t304\t368\n",
      "7\t-32\t1\t14\t381\t453\n",
      "8\t-21\t9\t23\t467\t540\n",
      "9\t-3\t11\t34\t563\t637\n",
      "10\t-35\t26\t60\t671\t732\n",
      "11\t-25\t76\t136\t792\t791\n",
      "12\t-31\t24\t160\t927\t919\n",
      "13\t-32\t42\t202\t1079\t1047\n",
      "14\t-17\t45\t247\t1249\t1002\n",
      "15\t-19\t78\t325\t1249\t1250\n",
      "16\t-33\t136\t461\t1575\t1448\n",
      "17\t-54\t158\t619\t1909\t1640\n",
      "18\t-118\t155\t774\t2259\t1854\n",
      "19\t-181\t149\t923\t2628\t2098\n",
      "20\t-311\t108\t1031\t3021\t2408\n",
      "21\t-217\t89\t1120\t3439\t2765\n",
      "22\t-282\t46\t1166\t3885\t3195\n",
      "23\t-228\t134\t1300\t4361\t3568\n",
      "24\t-389\t122\t1422\t4868\t3988\n",
      "25\t-394\t200\t1622\t5410\t4367\n",
      "26\t-556\t123\t1745\t5989\t4862\n",
      "27\t-393\t160\t1905\t6607\t5361\n",
      "28\t-481\t110\t2015\t7266\t5955\n",
      "29\t-470\t256\t2271\t7970\t6451\n",
      "30\t-627\t238\t2509\t8722\t7015\n"
     ]
    }
   ],
   "source": [
    "def r(arr):\n",
    "    return [str(int(a)) if not np.isinf(a) else '-inf' for a in arr]\n",
    "def r_arrays(arr):\n",
    "    return [r(a) for a in arr]\n",
    "\n",
    "print('\\t'.join(['day', 'loglik', 'X', 'Xsum', 'Y', 'n']))\n",
    "arr = r_arrays(list(zip(range(len(X)),loglik,X, Xsum, Y, n)))\n",
    "for a in arr:\n",
    "    print('\\t'.join(a))"
   ]
  },
  {
   "cell_type": "code",
   "execution_count": null,
   "metadata": {},
   "outputs": [],
   "source": []
  }
 ],
 "metadata": {
  "kernelspec": {
   "display_name": "Environment (conda_py371)",
   "language": "python",
   "name": "conda_py371"
  },
  "language_info": {
   "codemirror_mode": {
    "name": "ipython",
    "version": 3
   },
   "file_extension": ".py",
   "mimetype": "text/x-python",
   "name": "python",
   "nbconvert_exporter": "python",
   "pygments_lexer": "ipython3",
   "version": "3.7.2"
  }
 },
 "nbformat": 4,
 "nbformat_minor": 2
}
