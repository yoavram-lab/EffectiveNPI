{
 "cells": [
  {
   "cell_type": "code",
   "execution_count": 48,
   "metadata": {},
   "outputs": [
    {
     "name": "stdout",
     "output_type": "stream",
     "text": [
      "The autoreload extension is already loaded. To reload it, use:\n",
      "  %reload_ext autoreload\n"
     ]
    }
   ],
   "source": [
    "%load_ext autoreload\n",
    "%autoreload\n",
    "exec(open(\"plot_utils.py\").read())"
   ]
  },
  {
   "cell_type": "code",
   "execution_count": 49,
   "metadata": {},
   "outputs": [
    {
     "data": {
      "application/javascript": [
       "IPython.OutputArea.prototype._should_scroll = function(lines) {\n",
       "    return false;\n",
       "}\n"
      ],
      "text/plain": [
       "<IPython.core.display.Javascript object>"
      ]
     },
     "metadata": {},
     "output_type": "display_data"
    }
   ],
   "source": [
    "%%javascript\n",
    "IPython.OutputArea.prototype._should_scroll = function(lines) {\n",
    "    return false;\n",
    "}"
   ]
  },
  {
   "cell_type": "code",
   "execution_count": 50,
   "metadata": {},
   "outputs": [],
   "source": [
    "import matplotlib.backends.backend_pdf\n",
    "import os,fnmatch\n",
    "def save_plots_to_pdf():\n",
    "    def close_and_savefig():\n",
    "        fig = plt.gcf()\n",
    "        pdf.savefig(fig,bbox_inches=\"tight\")\n",
    "        plt.close(fig)\n",
    "    plot_all();\n",
    "    close_and_savefig()\n",
    "    plot_corner(sample,var_names,ndim)\n",
    "    close_and_savefig()\n"
   ]
  },
  {
   "cell_type": "code",
   "execution_count": 51,
   "metadata": {},
   "outputs": [
    {
     "name": "stdout",
     "output_type": "stream",
     "text": [
      "Italy\n",
      "CPU times: user 32 s, sys: 6.76 s, total: 38.7 s\n",
      "Wall time: 39.9 s\n"
     ]
    }
   ],
   "source": [
    "%%time\n",
    "v = '2020-05-14-notau-up-to-10March-1M'\n",
    "d = 'output'\n",
    "# v = '2020-04-28-dic-wide'\n",
    "dir_name = '../{}/{}/inference/'.format(d,v)\n",
    "reports_dir_name = '../{}/{}/figures/'.format(d,v)\n",
    "tables_dir_name = '../{}/{}/tables/'.format(d,v)\n",
    "if not os.path.exists(reports_dir_name):\n",
    "    os.makedirs(reports_dir_name)\n",
    "if not os.path.exists(tables_dir_name):\n",
    "    os.makedirs(tables_dir_name)\n",
    "# countries = ['Belgium', 'Denmark', 'France', 'Germany', 'Italy', 'Norway', 'Spain',\n",
    "#              'Sweden', 'Switzerland','United_Kingdom','Wuhan','Austria']\n",
    "countries = [a[:-4] for a in fnmatch.filter(os.listdir(dir_name), '*.npz')]\n",
    "def close_and_savefig():\n",
    "    fig = plt.gcf()\n",
    "    pdf.savefig(fig,bbox_inches=\"tight\")\n",
    "    plt.close(fig)\n",
    "    \n",
    "pdf = matplotlib.backends.backend_pdf.PdfPages('{}/all-countries-{}.pdf'.format(reports_dir_name,v))\n",
    "first = True\n",
    "for country_name in countries:\n",
    "    print(country_name)\n",
    "    load_data(dir_name+country_name+'.npz',country_name)\n",
    "#     plot_all();\n",
    "#     close_and_savefig()\n",
    "    plot_incidences()\n",
    "    close_and_savefig()\n",
    "    plot_hists()\n",
    "    close_and_savefig()\n",
    "#     plot_corner()\n",
    "#     close_and_savefig()\n",
    "    if first:\n",
    "        write_csv_header('{}/all-countries-{}.csv'.format(tables_dir_name,v))\n",
    "        first = False\n",
    "    write_csv_data('{}/all-countries-{}.csv'.format(tables_dir_name,v))\n",
    "pdf.close()"
   ]
  },
  {
   "cell_type": "code",
   "execution_count": 52,
   "metadata": {},
   "outputs": [
    {
     "data": {
      "application/javascript": [
       "IPython.notebook.kernel.execute('nb_name = \"' + IPython.notebook.notebook_name + '\"')\n"
      ],
      "text/plain": [
       "<IPython.core.display.Javascript object>"
      ]
     },
     "metadata": {},
     "output_type": "display_data"
    }
   ],
   "source": [
    "%%javascript\n",
    "IPython.notebook.kernel.execute('nb_name = \"' + IPython.notebook.notebook_name + '\"')"
   ]
  },
  {
   "cell_type": "code",
   "execution_count": 53,
   "metadata": {},
   "outputs": [
    {
     "data": {
      "text/plain": [
       "'../output/2020-05-14-notau-up-to-10March-1M/figures/make_report.ipynb'"
      ]
     },
     "execution_count": 53,
     "metadata": {},
     "output_type": "execute_result"
    }
   ],
   "source": [
    "nb_full_path = os.path.join(os.getcwd(), nb_name)\n",
    "from shutil import copyfile\n",
    "copyfile(nb_full_path, os.path.join(reports_dir_name, nb_name))"
   ]
  },
  {
   "cell_type": "code",
   "execution_count": null,
   "metadata": {},
   "outputs": [],
   "source": []
  }
 ],
 "metadata": {
  "kernelspec": {
   "display_name": "Environment (conda_py371)",
   "language": "python",
   "name": "conda_py371"
  },
  "language_info": {
   "codemirror_mode": {
    "name": "ipython",
    "version": 3
   },
   "file_extension": ".py",
   "mimetype": "text/x-python",
   "name": "python",
   "nbconvert_exporter": "python",
   "pygments_lexer": "ipython3",
   "version": "3.7.2"
  },
  "papermill": {
   "duration": 283.00423,
   "end_time": "2020-04-13T20:14:43.182021",
   "environment_variables": {},
   "exception": null,
   "input_path": "plot_generic.ipynb",
   "output_path": "./outputs/wuhan.ipynb",
   "parameters": {
    "file_name": "wuhan.npz"
   },
   "start_time": "2020-04-13T20:10:00.177791",
   "version": "1.1.0"
  }
 },
 "nbformat": 4,
 "nbformat_minor": 4
}
