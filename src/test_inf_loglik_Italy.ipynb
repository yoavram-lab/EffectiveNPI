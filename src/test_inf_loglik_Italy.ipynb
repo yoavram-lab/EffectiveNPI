{
 "cells": [
  {
   "cell_type": "code",
   "execution_count": 201,
   "metadata": {},
   "outputs": [
    {
     "data": {
      "application/javascript": [
       "IPython.OutputArea.prototype._should_scroll = function(lines) {\n",
       "    return false;\n",
       "}\n"
      ],
      "text/plain": [
       "<IPython.core.display.Javascript object>"
      ]
     },
     "metadata": {},
     "output_type": "display_data"
    }
   ],
   "source": [
    "%%javascript\n",
    "IPython.OutputArea.prototype._should_scroll = function(lines) {\n",
    "    return false;\n",
    "}"
   ]
  },
  {
   "cell_type": "code",
   "execution_count": 202,
   "metadata": {},
   "outputs": [
    {
     "name": "stdout",
     "output_type": "stream",
     "text": [
      "The autoreload extension is already loaded. To reload it, use:\n",
      "  %reload_ext autoreload\n"
     ]
    }
   ],
   "source": [
    "%load_ext autoreload\n",
    "%autoreload\n",
    "exec(open(\"plot_utils.py\").read())"
   ]
  },
  {
   "cell_type": "code",
   "execution_count": 203,
   "metadata": {},
   "outputs": [],
   "source": [
    "country_name = 'Italy'\n",
    "file_name = '../output/2020-05-12-fixed-deltat0-old-normal-100k/inference/{}.npz'.format(country_name)\n",
    "data = np.load(file_name)\n",
    "\n"
   ]
  },
  {
   "cell_type": "code",
   "execution_count": 214,
   "metadata": {},
   "outputs": [],
   "source": [
    "var_names = list(data['var_names'])\n",
    "incidences = data['incidences']\n",
    "chain = data['chain']\n",
    "nsteps, ndim, N, Td1, Td2, τ_model = data['params']\n",
    "nburn = int(nsteps * 0.6)\n",
    "sample = chain[:, nburn:, :].reshape(-1, ndim)\n",
    "\n",
    "medians = [np.median(sample[:,i]) for i in range(len(var_names))]\n",
    "means = [sample[:,i].mean() for i in range(len(var_names))]\n",
    "lnprobability = data['lnprobability'][:, nburn:]\n",
    "MAP = sample[lnprobability.argmax()]"
   ]
  },
  {
   "cell_type": "code",
   "execution_count": 215,
   "metadata": {},
   "outputs": [
    {
     "data": {
      "text/plain": [
       "[('Z', 3.9601050233814847, 4.108041306058087),\n",
       " ('D', 2.952858246125216, 2.8142292613127284),\n",
       " ('μ', 0.5444691321172085, 0.5084318001660746),\n",
       " ('β', 1.0128890368125536, 0.9663583420018509),\n",
       " ('α1', 0.5609353543575976, 0.5478036100368604),\n",
       " ('λ', 0.46764315670323686, 0.4616149381171775),\n",
       " ('α2', 0.5631532111592872, 0.5518249697912646),\n",
       " ('E0', 1074.3977520583933, 971.0537895234131),\n",
       " ('Iu0', 1773.6920256031842, 1872.6298914212605),\n",
       " ('Δt0', 1.8295168919974756, 1.630144446797973),\n",
       " ('τ', 28.49547104102159, 28.493126774162747)]"
      ]
     },
     "execution_count": 215,
     "metadata": {},
     "output_type": "execute_result"
    }
   ],
   "source": [
    "list(zip(var_names, means, medians))"
   ]
  },
  {
   "cell_type": "markdown",
   "metadata": {},
   "source": [
    "## medians"
   ]
  },
  {
   "cell_type": "code",
   "execution_count": 216,
   "metadata": {},
   "outputs": [],
   "source": [
    "seed_max = 3000\n",
    "params_bounds = {\n",
    "    'Z' : (2, 5),\n",
    "    'D' : (2, 5),\n",
    "    'μ' : (0.2, 1),\n",
    "    'β' : (0.8, 1.5),\n",
    "    'α1' : (0.02, 1),\n",
    "    'λ'  : (0, 1),\n",
    "    'α2' : (0.02, 1),\n",
    "    'E0' : (0, seed_max),\n",
    "    'Iu0' : (0, seed_max),\n",
    "    'Δt0' : (1,5) #how much zeros before the first incident\n",
    "}\n",
    "\n",
    "## loglikelihood code:\n",
    "θ = medians\n",
    "X = incidences\n",
    "Z, D, μ, β, α1, λ, α2, E0, Iu0, Δt0, τ = θ\n",
    "τ = int(τ) # for explanation see https://github.com/dfm/emcee/issues/150\n",
    "Δt0 = int(Δt0)\n",
    "\n",
    "total_zeros = params_bounds['Δt0'][1]\n",
    "unrellevant_zeros = total_zeros - Δt0\n",
    "τ = τ - unrellevant_zeros\n",
    "X = X[unrellevant_zeros:]\n",
    "ndays = len(X)\n",
    "\n",
    "S, E, Ir, Iu, R, Y = simulate(Z, D, μ, β, α1, λ, α2, E0, Iu0, Δt0, τ, ndays, N)\n",
    "p1 = 1/Td1\n",
    "p2 = 1/Td2\n",
    "Xsum = X.cumsum() \n",
    "n = Y[1:] - Xsum[:-1] \n",
    "n = np.maximum(0, n)\n",
    "p = ([p1] * τ + [p2] * (ndays - τ))[1:]\n",
    "\n",
    "loglik = scipy.stats.poisson.logpmf(X[Δt0:], n[Δt0-1:] * p[Δt0-1:])"
   ]
  },
  {
   "cell_type": "code",
   "execution_count": 217,
   "metadata": {},
   "outputs": [
    {
     "name": "stdout",
     "output_type": "stream",
     "text": [
      "day\tloglik\tX\tXsum\tY\tn\n",
      "0\t0\t0\t0\t0\t169\n",
      "1\t-2\t14\t14\t169\t388\n",
      "2\t-6\t62\t76\t402\t612\n",
      "3\t-4\t53\t129\t688\t894\n",
      "4\t-3\t97\t226\t1023\t1184\n",
      "5\t-9\t93\t319\t1410\t1535\n",
      "6\t-34\t78\t397\t1854\t1964\n",
      "7\t-5\t250\t647\t2361\t2294\n",
      "8\t-4\t238\t885\t2941\t2717\n",
      "9\t-10\t240\t1125\t3602\t3232\n",
      "10\t-52\t561\t1686\t4357\t3532\n",
      "11\t-105\t146\t1832\t5218\t4369\n",
      "12\t-34\t667\t2499\t6201\t4823\n",
      "13\t-6\t587\t3086\t7322\t5516\n",
      "14\t-22\t769\t3855\t8602\t6207\n",
      "15\t-9\t778\t4633\t10062\t7094\n",
      "16\t-117\t1247\t5880\t11727\t7747\n",
      "17\t-193\t1492\t7372\t13627\t8424\n",
      "18\t-315\t1797\t9169\t15796\t9100\n",
      "19\t-4\t977\t10146\t18269\t10945\n",
      "20\t-394\t2313\t12459\t21091\t11851\n",
      "21\t-525\t2651\t15110\t24310\t12873\n",
      "22\t-357\t2547\t17657\t27983\t14515\n",
      "23\t-1266\t90\t17747\t32172\t14425\n",
      "24\t-2111\t6230\t23977\t32172\t12567\n",
      "25\t-687\t4000\t27977\t36544\t12753\n",
      "26\t-389\t3526\t31503\t40730\t13305\n",
      "27\t-709\t4207\t35710\t44808\t13110\n",
      "28\t-1605\t5322\t41032\t48820\t11759\n",
      "29\t-2662\t5986\t47018\t52791\t9714\n",
      "30\t-4238\t6557\t53575\t56732\t7075\n",
      "31\t-4246\t5560\t59135\t60650\t5416\n",
      "32\t-4110\t4789\t63924\t64551\t4511\n",
      "33\t-5707\t5249\t69173\t68435\t3132\n",
      "34\t-7302\t5210\t74383\t72305\t1777\n",
      "35\t-12812\t6153\t80536\t76160\t0\n",
      "36\t-inf\t5959\t86495\t80002\t-666\n"
     ]
    }
   ],
   "source": [
    "def r(arr):\n",
    "    return [str(int(a)) if not np.isinf(a) else '-inf' for a in arr]\n",
    "def r_arrays(arr):\n",
    "    return [r(a) for a in arr]\n",
    "\n",
    "loglik_to_print = np.array([0]*Δt0+list(loglik))\n",
    "n_padded = np.array(list(n)+[-666])\n",
    "print('\\t'.join(['day', 'loglik', 'X', 'Xsum', 'Y', 'n']))\n",
    "arr = r_arrays(list(zip(range(len(X)),loglik_to_print,X, Xsum, Y, n_padded)))\n",
    "for a in arr:\n",
    "    print('\\t'.join(a))"
   ]
  },
  {
   "cell_type": "markdown",
   "metadata": {},
   "source": [
    "## means"
   ]
  },
  {
   "cell_type": "code",
   "execution_count": 218,
   "metadata": {},
   "outputs": [],
   "source": [
    "## loglikelihood code:\n",
    "θ = means\n",
    "X = incidences\n",
    "Z, D, μ, β, α1, λ, α2, E0, Iu0, Δt0, τ = θ\n",
    "τ = int(τ) # for explanation see https://github.com/dfm/emcee/issues/150\n",
    "Δt0 = int(Δt0)\n",
    "\n",
    "total_zeros = params_bounds['Δt0'][1]\n",
    "unrellevant_zeros = total_zeros - Δt0\n",
    "τ = τ - unrellevant_zeros\n",
    "X = X[unrellevant_zeros:]\n",
    "ndays = len(X)\n",
    "\n",
    "S, E, Ir, Iu, R, Y = simulate(Z, D, μ, β, α1, λ, α2, E0, Iu0, Δt0, τ, ndays, N)\n",
    "p1 = 1/Td1\n",
    "p2 = 1/Td2\n",
    "Xsum = X.cumsum() \n",
    "n = Y[1:] - Xsum[:-1] \n",
    "n = np.maximum(0, n)\n",
    "p = ([p1] * τ + [p2] * (ndays - τ))[1:]\n",
    "\n",
    "loglik = scipy.stats.poisson.logpmf(X[Δt0:], n[Δt0-1:] * p[Δt0-1:])"
   ]
  },
  {
   "cell_type": "code",
   "execution_count": 219,
   "metadata": {},
   "outputs": [
    {
     "name": "stdout",
     "output_type": "stream",
     "text": [
      "day\tloglik\tX\tXsum\tY\tn\n",
      "0\t0\t0\t0\t0\t196\n",
      "1\t-3\t14\t14\t196\t454\n",
      "2\t-4\t62\t76\t468\t730\n",
      "3\t-8\t53\t129\t806\t1082\n",
      "4\t-5\t97\t226\t1211\t1464\n",
      "5\t-20\t93\t319\t1690\t1935\n",
      "6\t-61\t78\t397\t2254\t2519\n",
      "7\t-5\t250\t647\t2916\t3045\n",
      "8\t-20\t238\t885\t3692\t3717\n",
      "9\t-46\t240\t1125\t4602\t4543\n",
      "10\t-7\t561\t1686\t5668\t5232\n",
      "11\t-237\t146\t1832\t6918\t6551\n",
      "12\t-6\t667\t2499\t8383\t7601\n",
      "13\t-48\t587\t3086\t10100\t9026\n",
      "14\t-33\t769\t3855\t12112\t10615\n",
      "15\t-82\t778\t4633\t14470\t12601\n",
      "16\t-13\t1247\t5880\t17234\t14592\n",
      "17\t-9\t1492\t7372\t20472\t16894\n",
      "18\t-6\t1797\t9169\t24266\t19543\n",
      "19\t-418\t977\t10146\t28712\t23776\n",
      "20\t-26\t2313\t12459\t33922\t27566\n",
      "21\t-33\t2651\t15110\t40025\t32066\n",
      "22\t-165\t2547\t17657\t47176\t37895\n",
      "23\t-3777\t90\t17747\t55552\t37805\n",
      "24\t-5\t6230\t23977\t55552\t40451\n",
      "25\t-658\t4000\t27977\t64428\t45079\n",
      "26\t-1324\t3526\t31503\t73056\t50107\n",
      "27\t-1264\t4207\t35710\t81610\t54477\n",
      "28\t-919\t5322\t41032\t90187\t57810\n",
      "29\t-805\t5986\t47018\t98842\t60586\n",
      "30\t-714\t6557\t53575\t107604\t62915\n",
      "31\t-1403\t5560\t59135\t116490\t66375\n",
      "32\t-2269\t4789\t63924\t125510\t70748\n",
      "33\t-2299\t5249\t69173\t134672\t74806\n",
      "34\t-2716\t5210\t74383\t143979\t79053\n",
      "35\t-2342\t6153\t80536\t153436\t82508\n",
      "36\t-2814\t5959\t86495\t163044\t-666\n"
     ]
    }
   ],
   "source": [
    "def r(arr):\n",
    "    return [str(int(a)) if not np.isinf(a) else '-inf' for a in arr]\n",
    "def r_arrays(arr):\n",
    "    return [r(a) for a in arr]\n",
    "\n",
    "loglik_to_print = np.array([0]*Δt0+list(loglik))\n",
    "n_padded = np.array(list(n)+[-666])\n",
    "print('\\t'.join(['day', 'loglik', 'X', 'Xsum', 'Y', 'n']))\n",
    "arr = r_arrays(list(zip(range(len(X)),loglik_to_print,X, Xsum, Y, n_padded)))\n",
    "for a in arr:\n",
    "    print('\\t'.join(a))"
   ]
  }
 ],
 "metadata": {
  "kernelspec": {
   "display_name": "Environment (conda_py371)",
   "language": "python",
   "name": "conda_py371"
  },
  "language_info": {
   "codemirror_mode": {
    "name": "ipython",
    "version": 3
   },
   "file_extension": ".py",
   "mimetype": "text/x-python",
   "name": "python",
   "nbconvert_exporter": "python",
   "pygments_lexer": "ipython3",
   "version": "3.7.2"
  }
 },
 "nbformat": 4,
 "nbformat_minor": 2
}
