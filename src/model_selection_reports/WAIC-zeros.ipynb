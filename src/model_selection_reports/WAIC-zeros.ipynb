{
 "cells": [
  {
   "cell_type": "code",
   "execution_count": 73,
   "metadata": {},
   "outputs": [],
   "source": [
    "%matplotlib inline\n",
    "import os\n",
    "import matplotlib as mpl\n",
    "import matplotlib.pyplot as plt\n",
    "import numpy as np\n",
    "import scipy.stats\n",
    "from scipy.special import logsumexp\n",
    "import pandas as pd\n",
    "import seaborn as sns\n",
    "sns.set_context('paper', font_scale=1.3)\n",
    "red, blue, green = sns.color_palette('Set1', 3)\n",
    "\n",
    "import os\n",
    "from datetime import datetime, timedelta\n",
    "\n",
    "from rakott.mpl import fig_panel_labels, fig_xlabel, fig_ylabel, savefig_bbox\n",
    "\n",
    "from inference import find_start_day\n",
    "\n",
    "def load_chain(job_id, country, burn_fraction=0.6):\n",
    "    fname = os.path.join(output_folder, job_id, 'inference', '{}.npz'.format(country))\n",
    "    inference_data = np.load(fname)\n",
    "    nsteps, ndim, N, Td1, Td2, model_type = inference_data['params']\n",
    "    logliks = inference_data['logliks']\n",
    "    nchains = logliks.size // nsteps\n",
    "    logliks = logliks.reshape(nchains, nsteps)\n",
    "    nburn = int(nsteps*burn_fraction)\n",
    "    logliks = logliks[:, nburn:]\n",
    "    return logliks\n",
    "\n",
    "def inliers(logliks, PLOT=False):\n",
    "    chain_mean_loglik = logliks.mean(axis=1)\n",
    "    std_mean_loglikg = chain_mean_loglik.std(ddof=1)\n",
    "    mean_mean_loglikg = chain_mean_loglik.mean()\n",
    "    idx = abs(chain_mean_loglik - mean_mean_loglikg) < 3*std_mean_loglikg\n",
    "    if PLOT:\n",
    "        if idx.any():\n",
    "            plt.plot(logliks[idx, ::1000].T, '.k', label='inliers')\n",
    "        if (~idx).any():\n",
    "            plt.plot(logliks[~idx, ::1000].T, '.r', label='outliers')\n",
    "        plt.ylabel('Log-likelihood')\n",
    "        plt.legend()\n",
    "    return idx\n",
    "\n",
    "def WAIC(logliks):\n",
    "    logliks = logliks[inliers(logliks)]\n",
    "    S = logliks.size\n",
    "    llpd = -np.log(S) + logsumexp(logliks)\n",
    "    p1 = 2*(-np.log(S) + logsumexp(logliks) - logliks.mean())\n",
    "    p2 = np.var(logliks, ddof=1)\n",
    "    return -2*(llpd + -p1), -2*(llpd + -p2)"
   ]
  },
  {
   "cell_type": "code",
   "execution_count": 74,
   "metadata": {},
   "outputs": [],
   "source": [
    "job_ids = ['2020-05-07-deltat0-normal','2020-04-30-prior-walkers-model2-normal','2020-05-09-zero-2-normal','2020-05-09-zero-5-normal', '2020-05-09-zero-10-normal', '2020-05-09-zero-15-normal', ]\n",
    "countries = 'Austria Belgium Denmark France Germany Italy Norway Spain Sweden Switzerland United_Kingdom'.split(' ')\n",
    "output_folder = r'../output'"
   ]
  },
  {
   "cell_type": "code",
   "execution_count": 116,
   "metadata": {},
   "outputs": [
    {
     "name": "stdout",
     "output_type": "stream",
     "text": [
      "CPU times: user 7.79 s, sys: 1.15 s, total: 8.94 s\n",
      "Wall time: 9.8 s\n"
     ]
    }
   ],
   "source": [
    "%%time\n",
    "results = []\n",
    "for country in countries:\n",
    "    for job_id in job_ids:\n",
    "        chain_fname = os.path.join(output_folder, job_id, 'inference', '{}.npz'.format(country))\n",
    "        logliks = load_chain(job_id, country)\n",
    "        waic1, waic2 = WAIC(logliks)\n",
    "        results.append(dict(\n",
    "            country=country,\n",
    "            job_id=job_id,\n",
    "#             WAIC1=waic1,\n",
    "            WAIC2=waic2\n",
    "        ))"
   ]
  },
  {
   "cell_type": "code",
   "execution_count": 117,
   "metadata": {},
   "outputs": [
    {
     "data": {
      "text/html": [
       "<div>\n",
       "<style scoped>\n",
       "    .dataframe tbody tr th:only-of-type {\n",
       "        vertical-align: middle;\n",
       "    }\n",
       "\n",
       "    .dataframe tbody tr th {\n",
       "        vertical-align: top;\n",
       "    }\n",
       "\n",
       "    .dataframe thead th {\n",
       "        text-align: right;\n",
       "    }\n",
       "</style>\n",
       "<table border=\"1\" class=\"dataframe\">\n",
       "  <thead>\n",
       "    <tr style=\"text-align: right;\">\n",
       "      <th></th>\n",
       "      <th>Country</th>\n",
       "      <th>Model</th>\n",
       "      <th>WAIC2</th>\n",
       "    </tr>\n",
       "  </thead>\n",
       "  <tbody>\n",
       "    <tr>\n",
       "      <th>0</th>\n",
       "      <td>Austria</td>\n",
       "      <td>free</td>\n",
       "      <td>28.329929</td>\n",
       "    </tr>\n",
       "    <tr>\n",
       "      <th>1</th>\n",
       "      <td>Austria</td>\n",
       "      <td>1</td>\n",
       "      <td>32.426785</td>\n",
       "    </tr>\n",
       "    <tr>\n",
       "      <th>2</th>\n",
       "      <td>Austria</td>\n",
       "      <td>2</td>\n",
       "      <td>28.878250</td>\n",
       "    </tr>\n",
       "    <tr>\n",
       "      <th>3</th>\n",
       "      <td>Austria</td>\n",
       "      <td>5</td>\n",
       "      <td>47.718124</td>\n",
       "    </tr>\n",
       "    <tr>\n",
       "      <th>4</th>\n",
       "      <td>Austria</td>\n",
       "      <td>10</td>\n",
       "      <td>31.038937</td>\n",
       "    </tr>\n",
       "  </tbody>\n",
       "</table>\n",
       "</div>"
      ],
      "text/plain": [
       "   Country Model      WAIC2\n",
       "0  Austria  free  28.329929\n",
       "1  Austria     1  32.426785\n",
       "2  Austria     2  28.878250\n",
       "3  Austria     5  47.718124\n",
       "4  Austria    10  31.038937"
      ]
     },
     "execution_count": 117,
     "metadata": {},
     "output_type": "execute_result"
    }
   ],
   "source": [
    "job_ids = ['2020-05-07-deltat0-normal','2020-04-30-prior-walkers-model2-normal','2020-05-09-zero-2-normal','2020-05-09-zero-5-normal', '2020-05-09-zero-10-normal', '2020-05-09-zero-15-normal', ]\n",
    "\n",
    "df = pd.DataFrame(results)\n",
    "df.loc[df['job_id'] == '2020-05-07-deltat0-normal', 'job_id'] = 'free'\n",
    "df.loc[df['job_id'] == '2020-04-30-prior-walkers-model2-normal', 'job_id'] = '1'\n",
    "df.loc[df['job_id'] == '2020-05-09-zero-2-normal', 'job_id'] = '2'\n",
    "df.loc[df['job_id'] == '2020-05-09-zero-5-normal', 'job_id'] = '5'\n",
    "df.loc[df['job_id'] == '2020-05-09-zero-10-normal', 'job_id'] = '10'\n",
    "df.loc[df['job_id'] == '2020-05-09-zero-15-normal', 'job_id'] = '15'\n",
    "\n",
    "df = df.rename(columns={'country':'Country', 'job_id':'Model'})\n",
    "df['Country'] = [x.replace('_', ' ') for x in df['Country']]\n",
    "df.loc[df['Country']=='Wuhan', 'Country'] = 'Wuhan China'\n",
    "df.head()"
   ]
  },
  {
   "cell_type": "code",
   "execution_count": 118,
   "metadata": {},
   "outputs": [
    {
     "data": {
      "text/html": [
       "<div>\n",
       "<style scoped>\n",
       "    .dataframe tbody tr th:only-of-type {\n",
       "        vertical-align: middle;\n",
       "    }\n",
       "\n",
       "    .dataframe tbody tr th {\n",
       "        vertical-align: top;\n",
       "    }\n",
       "\n",
       "    .dataframe thead th {\n",
       "        text-align: right;\n",
       "    }\n",
       "</style>\n",
       "<table border=\"1\" class=\"dataframe\">\n",
       "  <thead>\n",
       "    <tr style=\"text-align: right;\">\n",
       "      <th>Model</th>\n",
       "      <th>free</th>\n",
       "      <th>1</th>\n",
       "      <th>2</th>\n",
       "      <th>5</th>\n",
       "      <th>10</th>\n",
       "      <th>15</th>\n",
       "    </tr>\n",
       "    <tr>\n",
       "      <th>Country</th>\n",
       "      <th></th>\n",
       "      <th></th>\n",
       "      <th></th>\n",
       "      <th></th>\n",
       "      <th></th>\n",
       "      <th></th>\n",
       "    </tr>\n",
       "  </thead>\n",
       "  <tbody>\n",
       "    <tr>\n",
       "      <th>Austria</th>\n",
       "      <td>28.33</td>\n",
       "      <td>32.43</td>\n",
       "      <td>28.88</td>\n",
       "      <td>47.72</td>\n",
       "      <td>31.04</td>\n",
       "      <td>31.11</td>\n",
       "    </tr>\n",
       "    <tr>\n",
       "      <th>Belgium</th>\n",
       "      <td>30.97</td>\n",
       "      <td>30.23</td>\n",
       "      <td>30.35</td>\n",
       "      <td>32.46</td>\n",
       "      <td>33.45</td>\n",
       "      <td>34.24</td>\n",
       "    </tr>\n",
       "    <tr>\n",
       "      <th>Denmark</th>\n",
       "      <td>39.48</td>\n",
       "      <td>37.44</td>\n",
       "      <td>53.46</td>\n",
       "      <td>54.47</td>\n",
       "      <td>59.06</td>\n",
       "      <td>109.28</td>\n",
       "    </tr>\n",
       "    <tr>\n",
       "      <th>France</th>\n",
       "      <td>78.79</td>\n",
       "      <td>49.48</td>\n",
       "      <td>58.36</td>\n",
       "      <td>198.90</td>\n",
       "      <td>87.43</td>\n",
       "      <td>71.61</td>\n",
       "    </tr>\n",
       "    <tr>\n",
       "      <th>Germany</th>\n",
       "      <td>211.06</td>\n",
       "      <td>830.03</td>\n",
       "      <td>531.26</td>\n",
       "      <td>258.08</td>\n",
       "      <td>271.99</td>\n",
       "      <td>457.76</td>\n",
       "    </tr>\n",
       "  </tbody>\n",
       "</table>\n",
       "</div>"
      ],
      "text/plain": [
       "Model      free       1       2       5      10      15\n",
       "Country                                                \n",
       "Austria   28.33   32.43   28.88   47.72   31.04   31.11\n",
       "Belgium   30.97   30.23   30.35   32.46   33.45   34.24\n",
       "Denmark   39.48   37.44   53.46   54.47   59.06  109.28\n",
       "France    78.79   49.48   58.36  198.90   87.43   71.61\n",
       "Germany  211.06  830.03  531.26  258.08  271.99  457.76"
      ]
     },
     "execution_count": 118,
     "metadata": {},
     "output_type": "execute_result"
    }
   ],
   "source": [
    "df = pd.pivot(df, index='Country', columns='Model')\n",
    "df = df.droplevel(0, axis=1)\n",
    "df=df[df.columns.reindex(['free','1','2','5','10','15'])[0]]\n",
    "df = df.round(2)\n",
    "df.head()"
   ]
  },
  {
   "cell_type": "code",
   "execution_count": 121,
   "metadata": {},
   "outputs": [
    {
     "data": {
      "text/plain": [
       "Country\n",
       "Austria           free\n",
       "Belgium              1\n",
       "Denmark              1\n",
       "France               1\n",
       "Germany           free\n",
       "Italy             free\n",
       "Norway               1\n",
       "Spain                1\n",
       "Sweden               1\n",
       "Switzerland          2\n",
       "United Kingdom       1\n",
       "dtype: object"
      ]
     },
     "execution_count": 121,
     "metadata": {},
     "output_type": "execute_result"
    }
   ],
   "source": [
    "df.idxmin(axis=1)\n"
   ]
  },
  {
   "cell_type": "code",
   "execution_count": 111,
   "metadata": {},
   "outputs": [],
   "source": [
    "def bold_one(df, column_str):\n",
    "    idx = df[column_str]==df.min(axis=1)\n",
    "    df.loc[idx, column_str] = ['\\\\textbf{'+'{:.2f}'.format(x)+'}' for x in df.loc[idx, column_str]] \n",
    "def bold_all(df, columns):\n",
    "    minidxs = df.idxmin(axis=1)\n",
    "    for i in columns:\n",
    "        idx = i==minidxs\n",
    "        df.loc[idx, i] = ['\\\\textbf{'+'{:.2f}'.format(x)+'}' for x in df.loc[idx, i]] "
   ]
  },
  {
   "cell_type": "code",
   "execution_count": 112,
   "metadata": {},
   "outputs": [],
   "source": [
    "bold_all(df, ['free','1','2','5','10','15']):"
   ]
  },
  {
   "cell_type": "code",
   "execution_count": 132,
   "metadata": {},
   "outputs": [],
   "source": [
    "df.to_csv('Table-WAIC-Zeros-Normal.csv', index='Country', escapechar='@', float_format=\"%.2f\")"
   ]
  },
  {
   "cell_type": "code",
   "execution_count": null,
   "metadata": {},
   "outputs": [],
   "source": []
  }
 ],
 "metadata": {
  "kernelspec": {
   "display_name": "Environment (conda_py371)",
   "language": "python",
   "name": "conda_py371"
  },
  "language_info": {
   "codemirror_mode": {
    "name": "ipython",
    "version": 3
   },
   "file_extension": ".py",
   "mimetype": "text/x-python",
   "name": "python",
   "nbconvert_exporter": "python",
   "pygments_lexer": "ipython3",
   "version": "3.7.2"
  }
 },
 "nbformat": 4,
 "nbformat_minor": 4
}
