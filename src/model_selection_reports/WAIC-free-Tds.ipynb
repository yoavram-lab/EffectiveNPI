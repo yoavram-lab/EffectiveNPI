{
 "cells": [
  {
   "cell_type": "code",
   "execution_count": 12,
   "metadata": {},
   "outputs": [],
   "source": [
    "%matplotlib inline\n",
    "import os\n",
    "import matplotlib as mpl\n",
    "import matplotlib.pyplot as plt\n",
    "import numpy as np\n",
    "import scipy.stats\n",
    "from scipy.special import logsumexp\n",
    "import pandas as pd\n",
    "import seaborn as sns\n",
    "sns.set_context('paper', font_scale=1.3)\n",
    "red, blue, green = sns.color_palette('Set1', 3)\n",
    "\n",
    "import os\n",
    "from datetime import datetime, timedelta\n",
    "\n",
    "from rakott.mpl import fig_panel_labels, fig_xlabel, fig_ylabel, savefig_bbox\n",
    "\n",
    "from inference import find_start_day\n",
    "\n",
    "def load_chain(job_id, country, burn_fraction=0.6):\n",
    "    fname = os.path.join(output_folder, job_id, 'inference', '{}.npz'.format(country))\n",
    "    inference_data = np.load(fname)\n",
    "    nsteps, ndim, N, Td1, Td2, model_type = inference_data['params']\n",
    "    logliks = inference_data['logliks']\n",
    "    nchains = logliks.size // nsteps\n",
    "    logliks = logliks.reshape(nchains, nsteps)\n",
    "    nburn = int(nsteps*burn_fraction)\n",
    "    logliks = logliks[:, nburn:]\n",
    "    return logliks\n",
    "\n",
    "def inliers(logliks, PLOT=False):\n",
    "    chain_mean_loglik = logliks.mean(axis=1)\n",
    "    std_mean_loglikg = chain_mean_loglik.std(ddof=1)\n",
    "    mean_mean_loglikg = chain_mean_loglik.mean()\n",
    "    idx = abs(chain_mean_loglik - mean_mean_loglikg) < 3*std_mean_loglikg\n",
    "    if PLOT:\n",
    "        if idx.any():\n",
    "            plt.plot(logliks[idx, ::1000].T, '.k', label='inliers')\n",
    "        if (~idx).any():\n",
    "            plt.plot(logliks[~idx, ::1000].T, '.r', label='outliers')\n",
    "        plt.ylabel('Log-likelihood')\n",
    "        plt.legend()\n",
    "    return idx\n",
    "\n",
    "def WAIC(logliks):\n",
    "    logliks = logliks[inliers(logliks)]\n",
    "    S = logliks.size\n",
    "    llpd = -np.log(S) + logsumexp(logliks)\n",
    "    p1 = 2*(-np.log(S) + logsumexp(logliks) - logliks.mean())\n",
    "    p2 = np.var(logliks, ddof=1)\n",
    "    return -2*(llpd + -p1), -2*(llpd + -p2)"
   ]
  },
  {
   "cell_type": "code",
   "execution_count": 36,
   "metadata": {},
   "outputs": [],
   "source": [
    "job_ids = ['2020-05-14-n1-normal-1M','2020-05-27-freeTd-1-15']\n",
    "countries = 'Austria Belgium Denmark France Germany Italy Norway Spain Sweden Switzerland United_Kingdom'.split(' ')\n",
    "output_folder = r'../output'"
   ]
  },
  {
   "cell_type": "code",
   "execution_count": 37,
   "metadata": {},
   "outputs": [
    {
     "name": "stdout",
     "output_type": "stream",
     "text": [
      "CPU times: user 41.4 s, sys: 14.9 s, total: 56.3 s\n",
      "Wall time: 1min 24s\n"
     ]
    }
   ],
   "source": [
    "%%time\n",
    "results = []\n",
    "for country in countries:\n",
    "    for job_id in job_ids:\n",
    "        chain_fname = os.path.join(output_folder, job_id, 'inference', '{}.npz'.format(country))\n",
    "        logliks = load_chain(job_id, country)\n",
    "        waic1, waic2 = WAIC(logliks)\n",
    "        results.append(dict(\n",
    "            country=country,\n",
    "            job_id=job_id,\n",
    "#             WAIC1=waic1,\n",
    "            WAIC2=waic2\n",
    "        ))"
   ]
  },
  {
   "cell_type": "code",
   "execution_count": 38,
   "metadata": {},
   "outputs": [
    {
     "data": {
      "text/html": [
       "<div>\n",
       "<style scoped>\n",
       "    .dataframe tbody tr th:only-of-type {\n",
       "        vertical-align: middle;\n",
       "    }\n",
       "\n",
       "    .dataframe tbody tr th {\n",
       "        vertical-align: top;\n",
       "    }\n",
       "\n",
       "    .dataframe thead th {\n",
       "        text-align: right;\n",
       "    }\n",
       "</style>\n",
       "<table border=\"1\" class=\"dataframe\">\n",
       "  <thead>\n",
       "    <tr style=\"text-align: right;\">\n",
       "      <th></th>\n",
       "      <th>Country</th>\n",
       "      <th>Model</th>\n",
       "      <th>WAIC2</th>\n",
       "    </tr>\n",
       "  </thead>\n",
       "  <tbody>\n",
       "    <tr>\n",
       "      <th>0</th>\n",
       "      <td>Austria</td>\n",
       "      <td>Tds: 9 and 6</td>\n",
       "      <td>28.401017</td>\n",
       "    </tr>\n",
       "    <tr>\n",
       "      <th>1</th>\n",
       "      <td>Austria</td>\n",
       "      <td>free Tds ~U[0,15]</td>\n",
       "      <td>28.755360</td>\n",
       "    </tr>\n",
       "    <tr>\n",
       "      <th>2</th>\n",
       "      <td>Belgium</td>\n",
       "      <td>Tds: 9 and 6</td>\n",
       "      <td>30.620630</td>\n",
       "    </tr>\n",
       "    <tr>\n",
       "      <th>3</th>\n",
       "      <td>Belgium</td>\n",
       "      <td>free Tds ~U[0,15]</td>\n",
       "      <td>31.224699</td>\n",
       "    </tr>\n",
       "    <tr>\n",
       "      <th>4</th>\n",
       "      <td>Denmark</td>\n",
       "      <td>Tds: 9 and 6</td>\n",
       "      <td>37.336706</td>\n",
       "    </tr>\n",
       "  </tbody>\n",
       "</table>\n",
       "</div>"
      ],
      "text/plain": [
       "   Country              Model      WAIC2\n",
       "0  Austria       Tds: 9 and 6  28.401017\n",
       "1  Austria  free Tds ~U[0,15]  28.755360\n",
       "2  Belgium       Tds: 9 and 6  30.620630\n",
       "3  Belgium  free Tds ~U[0,15]  31.224699\n",
       "4  Denmark       Tds: 9 and 6  37.336706"
      ]
     },
     "execution_count": 38,
     "metadata": {},
     "output_type": "execute_result"
    }
   ],
   "source": [
    "# job_ids = ['2020-05-14-n1-normal-1M','2020-05-27-more1week','2020-05-26-more2weeks','2020-05-25-normal-endapril-1M']\n",
    "\n",
    "df = pd.DataFrame(results)\n",
    "df.loc[df['job_id'] == '2020-05-14-n1-normal-1M', 'job_id'] = 'Tds: 9 and 6'\n",
    "df.loc[df['job_id'] == '2020-05-27-freeTd-1-15', 'job_id'] = 'free Tds ~U[0,15]'\n",
    "\n",
    "df = df.rename(columns={'country':'Country', 'job_id':'Model'})\n",
    "df['Country'] = [x.replace('_', ' ') for x in df['Country']]\n",
    "df.loc[df['Country']=='Wuhan', 'Country'] = 'Wuhan China'\n",
    "df.head()"
   ]
  },
  {
   "cell_type": "code",
   "execution_count": 39,
   "metadata": {},
   "outputs": [
    {
     "data": {
      "text/html": [
       "<div>\n",
       "<style scoped>\n",
       "    .dataframe tbody tr th:only-of-type {\n",
       "        vertical-align: middle;\n",
       "    }\n",
       "\n",
       "    .dataframe tbody tr th {\n",
       "        vertical-align: top;\n",
       "    }\n",
       "\n",
       "    .dataframe thead th {\n",
       "        text-align: right;\n",
       "    }\n",
       "</style>\n",
       "<table border=\"1\" class=\"dataframe\">\n",
       "  <thead>\n",
       "    <tr style=\"text-align: right;\">\n",
       "      <th>Model</th>\n",
       "      <th>Tds: 9 and 6</th>\n",
       "      <th>free Tds ~U[0,15]</th>\n",
       "    </tr>\n",
       "    <tr>\n",
       "      <th>Country</th>\n",
       "      <th></th>\n",
       "      <th></th>\n",
       "    </tr>\n",
       "  </thead>\n",
       "  <tbody>\n",
       "    <tr>\n",
       "      <th>Austria</th>\n",
       "      <td>28.40</td>\n",
       "      <td>28.76</td>\n",
       "    </tr>\n",
       "    <tr>\n",
       "      <th>Belgium</th>\n",
       "      <td>30.62</td>\n",
       "      <td>31.22</td>\n",
       "    </tr>\n",
       "    <tr>\n",
       "      <th>Denmark</th>\n",
       "      <td>37.34</td>\n",
       "      <td>39.99</td>\n",
       "    </tr>\n",
       "    <tr>\n",
       "      <th>France</th>\n",
       "      <td>49.60</td>\n",
       "      <td>50.07</td>\n",
       "    </tr>\n",
       "    <tr>\n",
       "      <th>Germany</th>\n",
       "      <td>158.90</td>\n",
       "      <td>67.67</td>\n",
       "    </tr>\n",
       "  </tbody>\n",
       "</table>\n",
       "</div>"
      ],
      "text/plain": [
       "Model    Tds: 9 and 6  free Tds ~U[0,15]\n",
       "Country                                 \n",
       "Austria         28.40              28.76\n",
       "Belgium         30.62              31.22\n",
       "Denmark         37.34              39.99\n",
       "France          49.60              50.07\n",
       "Germany        158.90              67.67"
      ]
     },
     "execution_count": 39,
     "metadata": {},
     "output_type": "execute_result"
    }
   ],
   "source": [
    "df = pd.pivot(df, index='Country', columns='Model')\n",
    "df = df.droplevel(0, axis=1)\n",
    "# df=df[df.columns.reindex(['free','1','2','5','10','15'])[0]]\n",
    "df = df.round(2)\n",
    "df.head()"
   ]
  },
  {
   "cell_type": "code",
   "execution_count": 40,
   "metadata": {},
   "outputs": [
    {
     "data": {
      "text/plain": [
       "Country\n",
       "Austria                Tds: 9 and 6\n",
       "Belgium                Tds: 9 and 6\n",
       "Denmark                Tds: 9 and 6\n",
       "France                 Tds: 9 and 6\n",
       "Germany           free Tds ~U[0,15]\n",
       "Italy             free Tds ~U[0,15]\n",
       "Norway                 Tds: 9 and 6\n",
       "Spain                  Tds: 9 and 6\n",
       "Sweden                 Tds: 9 and 6\n",
       "Switzerland       free Tds ~U[0,15]\n",
       "United Kingdom         Tds: 9 and 6\n",
       "dtype: object"
      ]
     },
     "execution_count": 40,
     "metadata": {},
     "output_type": "execute_result"
    }
   ],
   "source": [
    "df.idxmin(axis=1)\n"
   ]
  },
  {
   "cell_type": "code",
   "execution_count": 41,
   "metadata": {},
   "outputs": [],
   "source": [
    "def bold_one(df, column_str):\n",
    "    idx = df[column_str]==df.min(axis=1)\n",
    "    df.loc[idx, column_str] = ['\\\\textbf{'+'{:.2f}'.format(x)+'}' for x in df.loc[idx, column_str]] \n",
    "def bold_all(df, columns):\n",
    "    minidxs = df.idxmin(axis=1)\n",
    "    for i in columns:\n",
    "        idx = i==minidxs\n",
    "        df.loc[idx, i] = ['\\\\textbf{'+'{:.2f}'.format(x)+'}' for x in df.loc[idx, i]] "
   ]
  },
  {
   "cell_type": "code",
   "execution_count": 42,
   "metadata": {},
   "outputs": [],
   "source": [
    "bold_all(df, list(df.columns))"
   ]
  },
  {
   "cell_type": "code",
   "execution_count": 45,
   "metadata": {},
   "outputs": [
    {
     "data": {
      "text/html": [
       "<div>\n",
       "<style scoped>\n",
       "    .dataframe tbody tr th:only-of-type {\n",
       "        vertical-align: middle;\n",
       "    }\n",
       "\n",
       "    .dataframe tbody tr th {\n",
       "        vertical-align: top;\n",
       "    }\n",
       "\n",
       "    .dataframe thead th {\n",
       "        text-align: right;\n",
       "    }\n",
       "</style>\n",
       "<table border=\"1\" class=\"dataframe\">\n",
       "  <thead>\n",
       "    <tr style=\"text-align: right;\">\n",
       "      <th>Model</th>\n",
       "      <th>Tds: 9 and 6</th>\n",
       "      <th>free Tds ~U[0,15]</th>\n",
       "    </tr>\n",
       "    <tr>\n",
       "      <th>Country</th>\n",
       "      <th></th>\n",
       "      <th></th>\n",
       "    </tr>\n",
       "  </thead>\n",
       "  <tbody>\n",
       "    <tr>\n",
       "      <th>Austria</th>\n",
       "      <td>\\textbf{28.40}</td>\n",
       "      <td>28.76</td>\n",
       "    </tr>\n",
       "    <tr>\n",
       "      <th>Belgium</th>\n",
       "      <td>\\textbf{30.62}</td>\n",
       "      <td>31.22</td>\n",
       "    </tr>\n",
       "    <tr>\n",
       "      <th>Denmark</th>\n",
       "      <td>\\textbf{37.34}</td>\n",
       "      <td>39.99</td>\n",
       "    </tr>\n",
       "    <tr>\n",
       "      <th>France</th>\n",
       "      <td>\\textbf{49.60}</td>\n",
       "      <td>50.07</td>\n",
       "    </tr>\n",
       "    <tr>\n",
       "      <th>Germany</th>\n",
       "      <td>158.9</td>\n",
       "      <td>\\textbf{67.67}</td>\n",
       "    </tr>\n",
       "    <tr>\n",
       "      <th>Italy</th>\n",
       "      <td>233.07</td>\n",
       "      <td>\\textbf{61.69}</td>\n",
       "    </tr>\n",
       "    <tr>\n",
       "      <th>Norway</th>\n",
       "      <td>\\textbf{36.07}</td>\n",
       "      <td>36.91</td>\n",
       "    </tr>\n",
       "    <tr>\n",
       "      <th>Spain</th>\n",
       "      <td>\\textbf{59.54}</td>\n",
       "      <td>60.48</td>\n",
       "    </tr>\n",
       "    <tr>\n",
       "      <th>Sweden</th>\n",
       "      <td>\\textbf{25.91}</td>\n",
       "      <td>26.47</td>\n",
       "    </tr>\n",
       "    <tr>\n",
       "      <th>Switzerland</th>\n",
       "      <td>72.97</td>\n",
       "      <td>\\textbf{60.85}</td>\n",
       "    </tr>\n",
       "    <tr>\n",
       "      <th>United Kingdom</th>\n",
       "      <td>\\textbf{37.39}</td>\n",
       "      <td>38.07</td>\n",
       "    </tr>\n",
       "  </tbody>\n",
       "</table>\n",
       "</div>"
      ],
      "text/plain": [
       "Model             Tds: 9 and 6 free Tds ~U[0,15]\n",
       "Country                                         \n",
       "Austria         \\textbf{28.40}             28.76\n",
       "Belgium         \\textbf{30.62}             31.22\n",
       "Denmark         \\textbf{37.34}             39.99\n",
       "France          \\textbf{49.60}             50.07\n",
       "Germany                  158.9    \\textbf{67.67}\n",
       "Italy                   233.07    \\textbf{61.69}\n",
       "Norway          \\textbf{36.07}             36.91\n",
       "Spain           \\textbf{59.54}             60.48\n",
       "Sweden          \\textbf{25.91}             26.47\n",
       "Switzerland              72.97    \\textbf{60.85}\n",
       "United Kingdom  \\textbf{37.39}             38.07"
      ]
     },
     "execution_count": 45,
     "metadata": {},
     "output_type": "execute_result"
    }
   ],
   "source": [
    "df"
   ]
  },
  {
   "cell_type": "code",
   "execution_count": 46,
   "metadata": {},
   "outputs": [],
   "source": [
    "df.to_csv('Table-WAIC-free-Tds.csv', index='Country', escapechar='@', float_format=\"%.2f\")"
   ]
  },
  {
   "cell_type": "code",
   "execution_count": null,
   "metadata": {},
   "outputs": [],
   "source": []
  }
 ],
 "metadata": {
  "kernelspec": {
   "display_name": "Environment (conda_py371)",
   "language": "python",
   "name": "conda_py371"
  },
  "language_info": {
   "codemirror_mode": {
    "name": "ipython",
    "version": 3
   },
   "file_extension": ".py",
   "mimetype": "text/x-python",
   "name": "python",
   "nbconvert_exporter": "python",
   "pygments_lexer": "ipython3",
   "version": "3.7.2"
  }
 },
 "nbformat": 4,
 "nbformat_minor": 4
}
